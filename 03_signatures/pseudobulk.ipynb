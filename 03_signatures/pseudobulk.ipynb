{
 "cells": [
  {
   "cell_type": "code",
   "execution_count": 26,
   "id": "8feb7e02",
   "metadata": {},
   "outputs": [],
   "source": [
    "import os, glob\n",
    "import numpy as np\n",
    "import pandas as pd\n",
    "import seaborn as sns\n",
    "import scanpy as sc\n",
    "import anndata as ad"
   ]
  },
  {
   "cell_type": "code",
   "execution_count": 20,
   "id": "7ec527f8",
   "metadata": {},
   "outputs": [
    {
     "name": "stdout",
     "output_type": "stream",
     "text": [
      "GSE136689 AnnData object with n_obs × n_vars = 10097 × 17462\n",
      "    obs: 'Stages', 'Clusters', 'Type', 'LineageAnnotations', 'celltype'\n",
      "    var: 'n_cells', 'm', 'v', 'n_obs', 'res', 'lp', 'lpa', 'qv', 'highly_variable'\n",
      "    uns: 'Stages_colors', 'celltype_colors', 'diffmap_evals', 'log1p', 'neighbors', 'pca', 'umap'\n",
      "    obsm: 'X_diffmap', 'X_pca', 'X_pca_harmony', 'X_umap'\n",
      "    varm: 'PCs'\n",
      "    obsp: 'connectivities', 'distances'\n",
      "GSE162534 AnnData object with n_obs × n_vars = 8725 × 19013\n",
      "    obs: 'sample', 'n_genes', 'n_genes_by_counts', 'total_counts', 'total_counts_mt', 'pct_counts_mt', 'leiden', 'celltype'\n",
      "    var: 'mt', 'n_cells_by_counts', 'mean_counts', 'pct_dropout_by_counts', 'total_counts', 'n_cells', 'm', 'v', 'n_obs', 'res', 'lp', 'lpa', 'qv', 'highly_variable'\n",
      "    uns: 'celltype_colors', 'leiden', 'leiden_colors', 'log1p', 'neighbors', 'pca', 'sample_colors', 'umap'\n",
      "    obsm: 'X_pca', 'X_pca_harmony', 'X_umap'\n",
      "    varm: 'PCs'\n",
      "    obsp: 'connectivities', 'distances'\n",
      "GSE201257 AnnData object with n_obs × n_vars = 8842 × 21676\n",
      "    obs: 'plates', 'devtime', 'location', 'n_genes_by_counts', 'total_counts', 'total_counts_ERCC', 'pct_counts_ERCC', 'doublet_scores', 'leiden', 'CytoTRACE', 'Gut_neuron', 'Sensory', 'Symp', 'enFib', 'ChC', 'Gut_glia', 'NCC', 'Mesenchyme', 'Melanocytes', 'SatGlia', 'SC', 'BCC', 'conflict', 'assignments', 'Hub', 'Hub_leiden', 'celltype'\n",
      "    var: 'ERCC', 'n_cells_by_counts', 'mean_counts', 'pct_dropout_by_counts', 'total_counts', 'n_cells', 'm', 'v', 'n_obs', 'res', 'lp', 'lpa', 'qv', 'highly_variable'\n",
      "    uns: 'Hub_colors', 'assignments_colors', 'celltype_colors', 'devtime_colors', 'leiden', 'leiden_colors', 'leiden_sizes', 'location_colors', 'log1p', 'neighbors', 'paga', 'umap'\n",
      "    obsm: 'X_diff', 'X_pca', 'X_umap'\n",
      "    layers: 'palantir_imp', 'scaled'\n",
      "    obsp: 'connectivities', 'distances'\n",
      "GSE229103 AnnData object with n_obs × n_vars = 11255 × 20088\n",
      "    obs: 'sample', 'n_genes', 'n_genes_by_counts', 'total_counts', 'total_counts_mt', 'pct_counts_mt', 'total_counts_ribo', 'pct_counts_ribo', 'leiden', 'T+ Sox2+', 'celltype'\n",
      "    var: 'n_cells', 'mt', 'ribo', 'n_cells_by_counts', 'mean_counts', 'pct_dropout_by_counts', 'total_counts', 'm', 'v', 'n_obs', 'res', 'lp', 'lpa', 'qv', 'highly_variable'\n",
      "    uns: 'T+ Sox2+_colors', 'celltype_colors', 'leiden', 'leiden_colors', 'log1p', 'neighbors', 'pca', 'sample_colors', 'umap'\n",
      "    obsm: 'X_pca', 'X_pca_harmony', 'X_umap'\n",
      "    varm: 'PCs'\n",
      "    obsp: 'connectivities', 'distances'\n"
     ]
    }
   ],
   "source": [
    "species_dict = {\n",
    "    'GSE136689' : 'mmusculus',\n",
    "    'GSE162534' : 'mmusculus',\n",
    "    'GSE201257' : 'mmusculus',\n",
    "    'GSE229103' : 'mmusculus'\n",
    "    }\n",
    "\n",
    "adata_fn = sorted(glob.glob('../data/processed/*/*.h5ad'))\n",
    "adata_dict = {fn.split('/')[-1].split('_')[0] : fn for fn in adata_fn}\n",
    "for key in adata_dict:\n",
    "    adata_dict[key] = sc.read_h5ad(adata_dict[key])\n",
    "    print(key, adata_dict[key])"
   ]
  },
  {
   "cell_type": "code",
   "execution_count": 21,
   "id": "904749ba",
   "metadata": {},
   "outputs": [
    {
     "name": "stdout",
     "output_type": "stream",
     "text": [
      "GSE136689 AnnData object with n_obs × n_vars = 8 × 17462\n",
      "    obs: 'celltype'\n",
      "    var: 'n_cells', 'm', 'v', 'n_obs', 'res', 'lp', 'lpa', 'qv', 'highly_variable'\n",
      "    layers: 'mean'\n",
      "GSE162534 AnnData object with n_obs × n_vars = 3 × 19013\n",
      "    obs: 'celltype'\n",
      "    var: 'mt', 'n_cells_by_counts', 'mean_counts', 'pct_dropout_by_counts', 'total_counts', 'n_cells', 'm', 'v', 'n_obs', 'res', 'lp', 'lpa', 'qv', 'highly_variable'\n",
      "    layers: 'mean'\n",
      "GSE201257 AnnData object with n_obs × n_vars = 12 × 21676\n",
      "    obs: 'celltype'\n",
      "    var: 'ERCC', 'n_cells_by_counts', 'mean_counts', 'pct_dropout_by_counts', 'total_counts', 'n_cells', 'm', 'v', 'n_obs', 'res', 'lp', 'lpa', 'qv', 'highly_variable'\n",
      "    layers: 'mean'\n",
      "GSE229103 AnnData object with n_obs × n_vars = 7 × 20088\n",
      "    obs: 'celltype'\n",
      "    var: 'n_cells', 'mt', 'ribo', 'n_cells_by_counts', 'mean_counts', 'pct_dropout_by_counts', 'total_counts', 'm', 'v', 'n_obs', 'res', 'lp', 'lpa', 'qv', 'highly_variable'\n",
      "    layers: 'mean'\n"
     ]
    }
   ],
   "source": [
    "adata_bulk_dict = adata_dict.copy()\n",
    "for key in adata_dict:\n",
    "    adata_key = adata_dict[key][~adata_dict[key].obs.celltype.isna()]\n",
    "    adata_bulk_dict[key] = sc.get.aggregate(adata_key, 'celltype', 'mean')\n",
    "    print(key, adata_bulk_dict[key])"
   ]
  },
  {
   "cell_type": "code",
   "execution_count": 22,
   "id": "f06a3134",
   "metadata": {},
   "outputs": [
    {
     "name": "stdout",
     "output_type": "stream",
     "text": [
      "GSE136689_early    mmusculus hsapiens\n",
      "0       Dab2     DAB2\n",
      "1      Map1b    MAP1B\n",
      "2       Irx1     IRX1\n",
      "3      Rbm24    RBM24\n",
      "4      Sox11    SOX11\n",
      "..       ...      ...\n",
      "65     Nop58    NOP58\n",
      "66     Aldoa    ALDOA\n",
      "67       Mmd      MMD\n",
      "68   Slc16a3  SLC16A3\n",
      "69    Mpped2   MPPED2\n",
      "\n",
      "[70 rows x 2 columns]\n",
      "GSE136689_late    mmusculus hsapiens\n",
      "0        Id2      ID2\n",
      "1     Homer2   HOMER2\n",
      "2       Manf     MANF\n",
      "3       Bex2     BEX1\n",
      "4       Bex2     BEX2\n",
      "5       Bex1     BEX1\n",
      "6       Bex1     BEX2\n",
      "7      Nr2f2    NR2F2\n",
      "8       Wnt2     WNT2\n",
      "9       Alx1     ALX1\n",
      "10     Csrp2    CSRP2\n",
      "11     Sfrp1    SFRP1\n",
      "12      Krt8     KRT8\n",
      "13     Krt18    KRT18\n",
      "14    Phlda1   PHLDA1\n",
      "15      Osr1     OSR1\n",
      "16      Mycn     MYCN\n",
      "17      Rbp1     RBP1\n",
      "18     Gata6    GATA6\n",
      "19     Sfrp5    SFRP5\n",
      "20     Rras2    RRAS2\n",
      "21     Pmp22    PMP22\n",
      "22     Cox17    COX17\n",
      "23    Popdc2   POPDC2\n",
      "24       Ddt     DDTL\n",
      "25       Ddt      DDT\n",
      "26   Smarcd3  SMARCD3\n",
      "27      Ly6e     LY6E\n",
      "28      Nrp1     NRP1\n",
      "29     Dusp9    DUSP9\n",
      "30      Rgs5     RGS5\n",
      "31      Arg1     ARG1\n",
      "32     Foxf1    FOXF1\n",
      "33   Aldh1a2  ALDH1A2\n",
      "34     Hoxa1    HOXA1\n",
      "35     Hand2    HAND2\n",
      "36     Meis1    MEIS1\n",
      "37    Phlda2   PHLDA2\n",
      "38     Gata5    GATA5\n",
      "39      Car4      CA4\n",
      "40     Hoxb1    HOXB1\n",
      "41       Mdk      MDK\n",
      "42      Peg3     PEG3\n",
      "GSE162534_early    mmusculus hsapiens\n",
      "0       Sqle     SQLE\n",
      "1      Fdft1    FDFT1\n",
      "2      Snrpn    SNRPN\n",
      "3       Crb3     CRB3\n",
      "4     Pmaip1   PMAIP1\n",
      "..       ...      ...\n",
      "66     Uchl1    UCHL1\n",
      "67    Spint2   SPINT2\n",
      "68    Dnmt3b   DNMT3B\n",
      "69      Fgf5     FGF5\n",
      "70      Nav2     NAV2\n",
      "\n",
      "[71 rows x 2 columns]\n",
      "GSE162534_late     mmusculus  hsapiens\n",
      "0        Cdh2      CDH2\n",
      "1       Greb1     GREB1\n",
      "2    Tnfrsf19  TNFRSF19\n",
      "3       Rspo3     RSPO3\n",
      "4       Epha1     EPHA1\n",
      "..        ...       ...\n",
      "130      Cst3      CST3\n",
      "131    Mogat2    MOGAT2\n",
      "132  Serpinh1  SERPINH1\n",
      "133       Sp5       SP5\n",
      "134      Peg3      PEG3\n",
      "\n",
      "[135 rows x 2 columns]\n",
      "GSE201257_early    mmusculus hsapiens\n",
      "0    Phactr1  PHACTR1\n",
      "1      Map1b    MAP1B\n",
      "2    Ppp1r1a  PPP1R1A\n",
      "3    Spata13  SPATA13\n",
      "4      Ednrb    EDNRB\n",
      "..       ...      ...\n",
      "93      Bmp7     BMP7\n",
      "94     Celf2    CELF2\n",
      "95    Arpc1b   ARPC1B\n",
      "96     Gdpd5    GDPD5\n",
      "97    Tom1l1   TOM1L1\n",
      "\n",
      "[98 rows x 2 columns]\n",
      "GSE201257_late    mmusculus hsapiens\n",
      "0     Efemp2   EFEMP2\n",
      "1      Vcam1    VCAM1\n",
      "2    Smarca2  SMARCA2\n",
      "3        Fos      FOS\n",
      "4      Wnt5a    WNT5A\n",
      "..       ...      ...\n",
      "69   Tnfaip6  TNFAIP6\n",
      "70    Pcolce   PCOLCE\n",
      "71   Tmem119  TMEM119\n",
      "72      Tbx2     TBX2\n",
      "73     Mfap4    MFAP4\n",
      "\n",
      "[74 rows x 2 columns]\n",
      "GSE229103_early    mmusculus hsapiens\n",
      "0      Greb1    GREB1\n",
      "1       Cdx1     CDX1\n",
      "2       Odc1     ODC1\n",
      "3      Map1b    MAP1B\n",
      "4       Rrm2     RRM2\n",
      "..       ...      ...\n",
      "78      Chd3     CHD3\n",
      "79     Hoxb9    HOXB9\n",
      "80     Hoxb8    HOXB8\n",
      "81       Sp5      SP5\n",
      "82    Tubb4b   TUBB4B\n",
      "\n",
      "[83 rows x 2 columns]\n",
      "GSE229103_late    mmusculus hsapiens\n",
      "0       Fbn2     FBN2\n",
      "1     Maged2   MAGED2\n",
      "2      Rspo3    RSPO3\n",
      "3      Wnt5a    WNT5A\n",
      "4     Pcdh19   PCDH19\n",
      "..       ...      ...\n",
      "70    Rnf213   RNF213\n",
      "71       Sct      SCT\n",
      "72     Tcf15    TCF15\n",
      "73      Peg3     PEG3\n",
      "74     Nrarp    NRARP\n",
      "\n",
      "[75 rows x 2 columns]\n"
     ]
    }
   ],
   "source": [
    "signature_fn = sorted(glob.glob('results/*/*/*.txt'))\n",
    "signature_dict = {'_'.join([fn.split('/')[i] for i in [-3, -1]]).replace('.txt', '') : fn for fn in signature_fn}\n",
    "for key in signature_dict:\n",
    "    signature_dict[key] = pd.read_csv(signature_dict[key])\n",
    "    print(key, signature_dict[key])"
   ]
  },
  {
   "cell_type": "code",
   "execution_count": null,
   "id": "8681287e",
   "metadata": {},
   "outputs": [
    {
     "name": "stdout",
     "output_type": "stream",
     "text": [
      "WARNING: genes are not in var_names and ignored: Index(['Mrps6'], dtype='object')\n"
     ]
    },
    {
     "name": "stdout",
     "output_type": "stream",
     "text": [
      "WARNING: genes are not in var_names and ignored: Index(['Prdm12', 'Wnt1', 'Foxd3', 'Hbb-y'], dtype='object')\n",
      "WARNING: genes are not in var_names and ignored: Index(['Fgf17', 'Jpt1'], dtype='object')\n",
      "WARNING: genes are not in var_names and ignored: Index(['Msgn1'], dtype='object')\n",
      "WARNING: genes are not in var_names and ignored: Index(['Hoxc8', 'Wnt1'], dtype='object')\n",
      "WARNING: genes are not in var_names and ignored: Index(['Esr1', 'Ccl6'], dtype='object')\n",
      "WARNING: genes are not in var_names and ignored: Index(['Hoxc8', 'Jpt1'], dtype='object')\n",
      "WARNING: genes are not in var_names and ignored: Index(['Jpt1'], dtype='object')\n",
      "WARNING: genes are not in var_names and ignored: Index(['Epb41l3', 'Rnf213'], dtype='object')\n"
     ]
    }
   ],
   "source": [
    "# To-do: check if index (i.e. `celltype`) is unique\n",
    "df_ix = np.concatenate([adata_bulk_dict[key].obs.celltype for key in adata_bulk_dict])\n",
    "df_col = np.asarray(signature_dict.keys())\n",
    "df = pd.DataFrame(0., index = df_ix, columns = df_col)\n",
    "for key in adata_bulk_dict:\n",
    "    adata = adata_bulk_dict[key]\n",
    "    for col in df.columns:\n",
    "        signature = signature_dict[col][species_dict[key]]\n",
    "        df.loc[adata.obs.celltype, col] = sc.tl.score_genes(\n",
    "            adata, signature, ctrl_as_ref = True, score_name = col,\n",
    "            copy = True, layer = 'mean').obs[col]"
   ]
  },
  {
   "cell_type": "code",
   "execution_count": null,
   "id": "652c9fae",
   "metadata": {},
   "outputs": [],
   "source": [
    "df_obs = np.concatenate([[key] * adata_bulk_dict[key].shape[0] for key in adata_bulk_dict])\n",
    "df_obs = pd.DataFrame(df_obs, index = df.index, columns = ['GEO'])\n",
    "df_var = np.flip(np.vstack(df.columns.str.split('_')), 1)\n",
    "df_var = pd.DataFrame(df_var, index = df.columns, columns = ['stage', 'GEO'])\n",
    "uns_dict = {\n",
    "    'stage_colors' : list(sns.color_palette('Oranges', df_var.stage.nunique()).as_hex()),\n",
    "    'GEO_colors' : list(sns.color_palette('cubehelix', df_var.GEO.nunique()).as_hex())\n",
    "    }"
   ]
  },
  {
   "cell_type": "code",
   "execution_count": 44,
   "id": "c5065dbf",
   "metadata": {},
   "outputs": [
    {
     "data": {
      "text/plain": [
       "AnnData object with n_obs × n_vars = 30 × 8\n",
       "    obs: 'GEO'\n",
       "    var: 'stage', 'GEO'\n",
       "    uns: 'stage_colors', 'GEO_colors'"
      ]
     },
     "execution_count": 44,
     "metadata": {},
     "output_type": "execute_result"
    }
   ],
   "source": [
    "adata = ad.AnnData(df, obs = df_obs, var = df_var, uns = uns_dict)\n",
    "adata"
   ]
  },
  {
   "cell_type": "code",
   "execution_count": 45,
   "id": "95e97800",
   "metadata": {},
   "outputs": [],
   "source": [
    "adata.write('results/pseudobulk.h5ad')"
   ]
  },
  {
   "cell_type": "code",
   "execution_count": null,
   "id": "43ad8e36",
   "metadata": {},
   "outputs": [],
   "source": []
  }
 ],
 "metadata": {
  "kernelspec": {
   "display_name": "scFates",
   "language": "python",
   "name": "python3"
  },
  "language_info": {
   "codemirror_mode": {
    "name": "ipython",
    "version": 3
   },
   "file_extension": ".py",
   "mimetype": "text/x-python",
   "name": "python",
   "nbconvert_exporter": "python",
   "pygments_lexer": "ipython3",
   "version": "3.11.12"
  }
 },
 "nbformat": 4,
 "nbformat_minor": 5
}
