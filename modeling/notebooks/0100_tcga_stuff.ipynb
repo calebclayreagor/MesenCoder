{
 "cells": [
  {
   "cell_type": "code",
   "execution_count": null,
   "id": "ecdce08e",
   "metadata": {},
   "outputs": [],
   "source": []
  },
  {
   "cell_type": "code",
   "execution_count": null,
   "id": "b3c01ad4",
   "metadata": {},
   "outputs": [],
   "source": [
    "adata_tcga = sc.read_h5ad(os.path.join(pth_pred, 'TCGA.h5ad'))\n",
    "adata_tcga"
   ]
  },
  {
   "cell_type": "code",
   "execution_count": null,
   "id": "9a93d339",
   "metadata": {},
   "outputs": [],
   "source": [
    "tcga_names_dict = {\n",
    "    'ACC'  : 'Adrenocortical Cancer',\n",
    "    'BLCA' : 'Bladder Cancer',\n",
    "    'BRCA' : 'Breast Cancer',\n",
    "    'CESC' : 'Cervical Cancer',\n",
    "    'CHOL' : 'Bile Duct Cancer',\n",
    "    'COAD' : 'Colon Cancer',\n",
    "    'DLBC' : 'Large B-cell Lymphoma',\n",
    "    'ESCA' : 'Esophageal Cancer',\n",
    "    'GBM'  : 'Glioblastoma',\n",
    "    'HNSC' : 'Head and Neck Cancer',\n",
    "    'KICH' : 'Kidney Chromophobe',\n",
    "    'KIRC' : 'Kidney Clear Cell Carcinoma',\n",
    "    'KIRP' : 'Kidney Papillary Cell Carcinoma',\n",
    "    'LAML' : 'Acute Myeloid Leukemia',\n",
    "    'LGG'  : 'Lower Grade Glioma',\n",
    "    'LIHC' : 'Liver Cancer',\n",
    "    'LUAD' : 'Lung Adenocarcinoma',\n",
    "    'LUSC' : 'Lung Squamous Cell Carcinoma',\n",
    "    'MESO' : 'Mesothelioma',\n",
    "    'OV'   : 'Ovarian Cancer',\n",
    "    'PAAD' : 'Pancreatic Cancer',\n",
    "    'PCPG' : 'Pheochromocytoma & Paraganglioma',\n",
    "    'PRAD' : 'Prostate Cancer',\n",
    "    'READ' : 'Rectal Cancer',\n",
    "    'SARC' : 'Sarcoma',\n",
    "    'SKCM' : 'Melanoma',\n",
    "    'STAD' : 'Stomach Cancer',\n",
    "    'TGCT' : 'Testicular Cancer',\n",
    "    'THCA' : 'Thyroid Cancer',\n",
    "    'THYM' : 'Thymoma',\n",
    "    'UCEC' : 'Endometrioid Cancer',\n",
    "    'UCS'  : 'Uterine Carcinosarcoma',\n",
    "    'UVM'  : 'Ocular Melanomas'}\n",
    "\n",
    "adata_tcga.obs['cancer type'] = \\\n",
    "    (adata_tcga.obs['cancer type abbreviation']\n",
    "     .map(tcga_names_dict))"
   ]
  },
  {
   "cell_type": "code",
   "execution_count": null,
   "id": "f3d4b6a1",
   "metadata": {},
   "outputs": [],
   "source": [
    "# plot bulk tumors (TCGA)\n",
    "fig, ax = plt.subplots(1, 1, figsize = (3.5, 8.25))\n",
    "df_plt = adata_tcga.obs.copy()\n",
    "ix = (df_plt.groupby('cancer type')\n",
    "      .latent_z.median()\n",
    "      .sort_values().index)\n",
    "sns.boxplot(df_plt,\n",
    "            x = 'latent_z',\n",
    "            y = 'cancer type',\n",
    "            color = 'cornflowerblue',\n",
    "            order = ix,\n",
    "            showfliers = False,\n",
    "            ax = ax)\n",
    "ax.set_xlabel('MesenCoder Score')\n",
    "ax.set_ylabel('')\n",
    "ax.set_title('TCGA Tumors')\n",
    "ax.set_xlim(right = 1.52)\n",
    "ax.set_xticks([1., 1.5])\n",
    "ax.grid(axis = 'x')\n",
    "fn = os.path.join(pth_out, 'tcga_bulk.pdf')\n",
    "plt.savefig(fn, bbox_inches = 'tight')"
   ]
  }
 ],
 "metadata": {
  "language_info": {
   "name": "python"
  }
 },
 "nbformat": 4,
 "nbformat_minor": 5
}
