{
 "cells": [
  {
   "cell_type": "code",
   "execution_count": null,
   "id": "10ffebcc",
   "metadata": {},
   "outputs": [],
   "source": [
    "\n",
    "import matplotlib.colors as mcolors\n",
    "from matplotlib.colors import Normalize"
   ]
  },
  {
   "cell_type": "code",
   "execution_count": null,
   "id": "d7182ad9",
   "metadata": {},
   "outputs": [],
   "source": [
    "# import seaborn as sns\n",
    "\n",
    "# # curated cancer cell atlas\n",
    "# fs1, fs2, rot, pad = 14, 16, -30, 6\n",
    "fig, ax = plt.subplots(1, 1, figsize = (28, 3))\n",
    "# # df_plt = adata[adata.obs.celltype == 'Malignant'].obs.copy()\n",
    "# df_plt = sc.read_h5ad(os.path.join(pth_pred, 'CCCA_malignant.h5ad')).obs\n",
    "hue = df_plt.groupby('source').latent_z.mean()\n",
    "ix = hue.sort_values(ascending = False).index\n",
    "# norm = Normalize(vmin = 0, vmax = hue.max())\n",
    "# cmap_ = plt.cm.get_cmap(cmap)\n",
    "# get_color = lambda x: mcolors.to_hex(cmap_(norm(x)))\n",
    "# palette = hue.apply(get_color).to_dict()\n",
    "\n",
    "sns.violinplot(df_plt,\n",
    "               y = 'latent_z',\n",
    "               x = 'source',\n",
    "            #    hue = 'category',\n",
    "               order = ix,\n",
    "               inner = 'quart',\n",
    "               density_norm = 'width',\n",
    "            #    palette = palette,\n",
    "               ax = ax)\n",
    "ax.set_ylabel('MesenCoder Score', size = fs1)\n",
    "ax.set_xlabel('')\n",
    "ax.set_title('Curated Cancer Cell Atlas', size = fs2)\n",
    "ax.set_xticklabels(ax.get_xticklabels(),\n",
    "                   size = fs1, rotation = rot,\n",
    "                   rotation_mode = 'anchor',\n",
    "                   ha = 'left', va = 'center')\n",
    "ax.tick_params('x', pad = pad)\n",
    "ax.tick_params('y', labelsize = fs1)\n",
    "ax.axhline(0, c = 'lightgray', lw = 1, zorder = 0)\n",
    "# fn = os.path.join(pth_out, 'processed', 'malignant.pdf')\n",
    "# plt.savefig(fn, bbox_inches = 'tight')\n",
    "plt.show()"
   ]
  },
  {
   "cell_type": "code",
   "execution_count": null,
   "id": "bbe8485b",
   "metadata": {},
   "outputs": [],
   "source": []
  }
 ],
 "metadata": {
  "language_info": {
   "name": "python"
  }
 },
 "nbformat": 4,
 "nbformat_minor": 5
}
