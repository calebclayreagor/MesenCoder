{
 "cells": [
  {
   "cell_type": "code",
   "execution_count": 1,
   "id": "c2182977",
   "metadata": {},
   "outputs": [],
   "source": [
    "import os, sys\n",
    "pth = os.path.join('..', '..', '..', '..')\n",
    "sys.path.append(pth)\n",
    "import scanpy as sc\n",
    "import anndata as ad\n",
    "from utils.load import load_3CA_adata"
   ]
  },
  {
   "cell_type": "code",
   "execution_count": 2,
   "id": "b3572b8c",
   "metadata": {},
   "outputs": [],
   "source": [
    "datadir = os.path.join(pth, 'data', 'unzip', 'Testing', '_3CA_Neuroendocrine', 'Data_Kildisiute2021_Neuroendocrine')\n",
    "adata_10x = load_3CA_adata(os.path.join(datadir, '10X'))\n",
    "sc.pp.normalize_total(adata_10x)\n",
    "adata_celseq2 = load_3CA_adata(os.path.join(datadir, 'CEL-seq2'))\n",
    "adata = ad.concat((adata_10x, adata_celseq2))"
   ]
  },
  {
   "cell_type": "code",
   "execution_count": 3,
   "id": "1c9ddb07",
   "metadata": {},
   "outputs": [
    {
     "data": {
      "text/plain": [
       "AnnData object with n_obs × n_vars = 19723 × 32118\n",
       "    obs: 'sample', 'cell_type', 'complexity', 'umap1', 'umap2', 'g1s_score', 'g2m_score', 'cell_cycle_phase', 'mp_top_score', 'mp_top', 'mp_assignment'"
      ]
     },
     "execution_count": 3,
     "metadata": {},
     "output_type": "execute_result"
    }
   ],
   "source": [
    "adata"
   ]
  },
  {
   "cell_type": "code",
   "execution_count": null,
   "id": "6dd66a57",
   "metadata": {},
   "outputs": [],
   "source": [
    "adata.obs.rename(columns = {'cell_type' : 'celltype'}, inplace = True)"
   ]
  },
  {
   "cell_type": "code",
   "execution_count": 5,
   "id": "2c6f197f",
   "metadata": {},
   "outputs": [],
   "source": [
    "sc.pp.log1p(adata)"
   ]
  },
  {
   "cell_type": "code",
   "execution_count": 6,
   "id": "0f420874",
   "metadata": {},
   "outputs": [],
   "source": [
    "outdir = os.path.join(pth, 'data', 'processed', 'Testing', '_3CA_Neuroendocrine')\n",
    "adata.write(os.path.join(outdir, 'Kildisiute2021.h5ad'))"
   ]
  },
  {
   "cell_type": "code",
   "execution_count": null,
   "id": "d2fba32a",
   "metadata": {},
   "outputs": [],
   "source": []
  }
 ],
 "metadata": {
  "kernelspec": {
   "display_name": "scanpy",
   "language": "python",
   "name": "python3"
  },
  "language_info": {
   "codemirror_mode": {
    "name": "ipython",
    "version": 3
   },
   "file_extension": ".py",
   "mimetype": "text/x-python",
   "name": "python",
   "nbconvert_exporter": "python",
   "pygments_lexer": "ipython3",
   "version": "3.13.2"
  }
 },
 "nbformat": 4,
 "nbformat_minor": 5
}
