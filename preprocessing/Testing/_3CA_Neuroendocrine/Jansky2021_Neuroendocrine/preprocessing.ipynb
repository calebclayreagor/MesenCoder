{
 "cells": [
  {
   "cell_type": "code",
   "execution_count": null,
   "id": "c2182977",
   "metadata": {},
   "outputs": [],
   "source": [
    "import os, sys\n",
    "pth = os.path.join('..', '..', '..', '..')\n",
    "sys.path.append(pth)\n",
    "import scanpy as sc\n",
    "from utils.load import load_3CA_adata"
   ]
  },
  {
   "cell_type": "code",
   "execution_count": 2,
   "id": "b3572b8c",
   "metadata": {},
   "outputs": [],
   "source": [
    "datadir = os.path.join(pth, 'data', 'unzip', 'Testing', '_3CA_Neuroendocrine', 'Data_Jansky2021_Neuroendocrine')\n",
    "adata = load_3CA_adata(datadir)"
   ]
  },
  {
   "cell_type": "code",
   "execution_count": 3,
   "id": "1c9ddb07",
   "metadata": {},
   "outputs": [
    {
     "data": {
      "text/plain": [
       "AnnData object with n_obs × n_vars = 64769 × 26344\n",
       "    obs: 'sample', 'cell_type', 'complexity', 'umap1', 'umap2', 'g1s_score', 'g2m_score', 'cell_cycle_phase', 'mp_top_score', 'mp_top', 'mp_assignment', 'authors_cell_type'"
      ]
     },
     "execution_count": 3,
     "metadata": {},
     "output_type": "execute_result"
    }
   ],
   "source": [
    "adata"
   ]
  },
  {
   "cell_type": "code",
   "execution_count": 4,
   "id": "6dd66a57",
   "metadata": {},
   "outputs": [],
   "source": [
    "adata.obs.rename(columns = {'cell_type' : 'celltype'}, inplace = True)\n",
    "adata.obs['source'] = 'Jansky2021_Neuroendocrine'\n",
    "adata.obs['weight'] = 1."
   ]
  },
  {
   "cell_type": "code",
   "execution_count": 5,
   "id": "2c6f197f",
   "metadata": {},
   "outputs": [],
   "source": [
    "sc.pp.normalize_total(adata)\n",
    "sc.pp.log1p(adata)"
   ]
  },
  {
   "cell_type": "code",
   "execution_count": 6,
   "id": "0f420874",
   "metadata": {},
   "outputs": [],
   "source": [
    "outdir = os.path.join(pth, 'data', 'processed', 'Testing', '_3CA_Neuroendocrine')\n",
    "adata.write(os.path.join(outdir, 'Jansky2021_Neuroendocrine.h5ad'))"
   ]
  },
  {
   "cell_type": "code",
   "execution_count": null,
   "id": "d2fba32a",
   "metadata": {},
   "outputs": [],
   "source": []
  }
 ],
 "metadata": {
  "kernelspec": {
   "display_name": "scanpy",
   "language": "python",
   "name": "python3"
  },
  "language_info": {
   "codemirror_mode": {
    "name": "ipython",
    "version": 3
   },
   "file_extension": ".py",
   "mimetype": "text/x-python",
   "name": "python",
   "nbconvert_exporter": "python",
   "pygments_lexer": "ipython3",
   "version": "3.13.2"
  }
 },
 "nbformat": 4,
 "nbformat_minor": 5
}
