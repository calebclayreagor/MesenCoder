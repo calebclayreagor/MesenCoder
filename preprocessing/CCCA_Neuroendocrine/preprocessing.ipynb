{
 "cells": [
  {
   "cell_type": "code",
   "execution_count": 1,
   "id": "c2182977",
   "metadata": {},
   "outputs": [],
   "source": [
    "import os, glob\n",
    "import numpy as np\n",
    "import pandas as pd\n",
    "import seaborn as sns\n",
    "import scanpy as sc\n",
    "import anndata as ad\n",
    "from scipy.io import mmread\n",
    "import matplotlib.pyplot as plt"
   ]
  },
  {
   "cell_type": "code",
   "execution_count": null,
   "id": "fcdf2b12",
   "metadata": {},
   "outputs": [],
   "source": [
    "def load_adata(data_dir):\n",
    "    # expression mtx file\n",
    "    mtx_fn_list = sorted(glob.glob(os.path.join(data_dir, '*.mtx')))\n",
    "    if not mtx_fn_list:\n",
    "        raise FileNotFoundError('No .mtx file found in the folder.')\n",
    "    elif len(mtx_fn_list) > 1:\n",
    "        raise ValueError('Multiple .mtx files found in the folder.')\n",
    "    mtx_fn = mtx_fn_list[0]\n",
    "\n",
    "    # gene file\n",
    "    gene_fn_list = sorted(f for f in os.listdir(data_dir) if 'genes' in f.lower())\n",
    "    if not gene_fn_list:\n",
    "        raise FileNotFoundError(\"No file containing 'genes' found in the folder.\")\n",
    "    gene_fn = os.path.join(data_dir, gene_fn_list[0])\n",
    "\n",
    "    # cell/metadata file\n",
    "    cell_fn_list = sorted(f for f in os.listdir(data_dir) if 'cells' in f.lower())\n",
    "    if not cell_fn_list:\n",
    "        raise FileNotFoundError(\"No file containing 'cells' found in the folder.\")\n",
    "    cell_fn = os.path.join(data_dir, cell_fn_list[0])\n",
    "\n",
    "    # read files -> return adata\n",
    "    X = mmread(mtx_fn).tocsr().T\n",
    "    genes = pd.read_csv(gene_fn, header = None)\n",
    "    genes.columns = ['genes']\n",
    "    genes.set_index('genes', inplace = True)\n",
    "    obs_df = pd.read_csv(cell_fn, header = 0)\n",
    "    obs_df.set_index(obs_df.columns[0], inplace = True)\n",
    "    return ad.AnnData(X = X, obs = obs_df, var = genes)\n"
   ]
  },
  {
   "cell_type": "code",
   "execution_count": 4,
   "id": "b3572b8c",
   "metadata": {},
   "outputs": [],
   "source": [
    "datadir = os.path.join('..', '..', 'data', 'unzip', 'CCCA_Neuroendocrine', 'Data_Dong2020_Neuroendocrine')\n",
    "adata1 = load_adata(os.path.join(datadir, 'Group1'))\n",
    "adata2 = load_adata(os.path.join(datadir, 'Group2'))\n",
    "adata = ad.concat((adata1, adata2))"
   ]
  },
  {
   "cell_type": "code",
   "execution_count": 5,
   "id": "1c9ddb07",
   "metadata": {},
   "outputs": [
    {
     "data": {
      "text/plain": [
       "AnnData object with n_obs × n_vars = 55190 × 12113\n",
       "    obs: 'sample', 'cell_type', 'complexity', 'umap1', 'umap2', 'g1s_score', 'g2m_score', 'cell_cycle_phase', 'mp_top_score', 'mp_top', 'mp_assignment'"
      ]
     },
     "execution_count": 5,
     "metadata": {},
     "output_type": "execute_result"
    }
   ],
   "source": [
    "adata"
   ]
  },
  {
   "cell_type": "code",
   "execution_count": null,
   "id": "6dd66a57",
   "metadata": {},
   "outputs": [],
   "source": [
    "adata.obs.rename(columns = {'cell_type' : 'celltype'}, inplace = True)\n",
    "adata.obs['source'] = 'Dong2020'\n",
    "adata.obs['weight'] = 1."
   ]
  },
  {
   "cell_type": "code",
   "execution_count": 6,
   "id": "2c6f197f",
   "metadata": {},
   "outputs": [],
   "source": [
    "sc.pp.normalize_total(adata)\n",
    "sc.pp.log1p(adata)"
   ]
  },
  {
   "cell_type": "code",
   "execution_count": 10,
   "id": "0f420874",
   "metadata": {},
   "outputs": [],
   "source": [
    "outdir = os.path.join('..', '..', 'data', 'processed')\n",
    "adata.write(os.path.join(outdir, 'CCCA_Neuroendocrine.h5ad'))"
   ]
  },
  {
   "cell_type": "code",
   "execution_count": null,
   "id": "d2fba32a",
   "metadata": {},
   "outputs": [],
   "source": []
  }
 ],
 "metadata": {
  "kernelspec": {
   "display_name": "scanpy",
   "language": "python",
   "name": "python3"
  },
  "language_info": {
   "codemirror_mode": {
    "name": "ipython",
    "version": 3
   },
   "file_extension": ".py",
   "mimetype": "text/x-python",
   "name": "python",
   "nbconvert_exporter": "python",
   "pygments_lexer": "ipython3",
   "version": "3.13.2"
  }
 },
 "nbformat": 4,
 "nbformat_minor": 5
}
