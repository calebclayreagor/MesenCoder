{
 "cells": [
  {
   "cell_type": "code",
   "execution_count": null,
   "id": "8feb7e02",
   "metadata": {},
   "outputs": [],
   "source": [
    "import os, glob\n",
    "import pandas as pd\n",
    "import scanpy as sc\n",
    "import anndata as ad"
   ]
  },
  {
   "cell_type": "code",
   "execution_count": 2,
   "id": "7ec527f8",
   "metadata": {},
   "outputs": [
    {
     "name": "stdout",
     "output_type": "stream",
     "text": [
      "GSE136689 View of AnnData object with n_obs × n_vars = 10097 × 689\n",
      "    obs: 'Stages', 'Clusters', 'Type', 'LineageAnnotations', 'celltype'\n",
      "    var: 'n_cells', 'm', 'v', 'n_obs', 'res', 'lp', 'lpa', 'qv', 'highly_variable'\n",
      "    uns: 'Stages_colors', 'celltype_colors', 'diffmap_evals', 'log1p', 'neighbors', 'pca', 'umap'\n",
      "    obsm: 'X_diffmap', 'X_pca', 'X_pca_harmony', 'X_umap'\n",
      "    varm: 'PCs'\n",
      "    obsp: 'connectivities', 'distances'\n",
      "GSE162534 View of AnnData object with n_obs × n_vars = 8725 × 710\n",
      "    obs: 'sample', 'n_genes', 'n_genes_by_counts', 'total_counts', 'total_counts_mt', 'pct_counts_mt', 'leiden', 'celltype'\n",
      "    var: 'mt', 'n_cells_by_counts', 'mean_counts', 'pct_dropout_by_counts', 'total_counts', 'n_cells', 'm', 'v', 'n_obs', 'res', 'lp', 'lpa', 'qv', 'highly_variable'\n",
      "    uns: 'celltype_colors', 'leiden', 'log1p', 'neighbors', 'pca', 'sample_colors', 'umap'\n",
      "    obsm: 'X_pca', 'X_pca_harmony', 'X_umap'\n",
      "    varm: 'PCs'\n",
      "    obsp: 'connectivities', 'distances'\n",
      "GSE201257 View of AnnData object with n_obs × n_vars = 8842 × 706\n",
      "    obs: 'plates', 'devtime', 'location', 'n_genes_by_counts', 'total_counts', 'total_counts_ERCC', 'pct_counts_ERCC', 'doublet_scores', 'leiden', 'CytoTRACE', 'Gut_neuron', 'Sensory', 'Symp', 'enFib', 'ChC', 'Gut_glia', 'NCC', 'Mesenchyme', 'Melanocytes', 'SatGlia', 'SC', 'BCC', 'conflict', 'assignments', 'Hub', 'Hub_leiden', 'celltype'\n",
      "    var: 'ERCC', 'n_cells_by_counts', 'mean_counts', 'pct_dropout_by_counts', 'total_counts', 'n_cells', 'm', 'v', 'n_obs', 'res', 'lp', 'lpa', 'qv', 'highly_variable'\n",
      "    uns: 'Hub_colors', 'assignments_colors', 'celltype_colors', 'devtime_colors', 'leiden', 'leiden_colors', 'leiden_sizes', 'location_colors', 'log1p', 'neighbors', 'paga', 'umap'\n",
      "    obsm: 'X_diff', 'X_pca', 'X_umap'\n",
      "    layers: 'palantir_imp', 'scaled'\n",
      "    obsp: 'connectivities', 'distances'\n",
      "GSE229103 View of AnnData object with n_obs × n_vars = 11255 × 719\n",
      "    obs: 'sample', 'n_genes', 'n_genes_by_counts', 'total_counts', 'total_counts_mt', 'pct_counts_mt', 'total_counts_ribo', 'pct_counts_ribo', 'leiden', 'T+ Sox2+', 'celltype'\n",
      "    var: 'n_cells', 'mt', 'ribo', 'n_cells_by_counts', 'mean_counts', 'pct_dropout_by_counts', 'total_counts', 'm', 'v', 'n_obs', 'res', 'lp', 'lpa', 'qv', 'highly_variable'\n",
      "    uns: 'T+ Sox2+_colors', 'celltype_colors', 'leiden', 'leiden_colors', 'log1p', 'neighbors', 'pca', 'sample_colors', 'umap'\n",
      "    obsm: 'X_pca', 'X_pca_harmony', 'X_umap'\n",
      "    varm: 'PCs'\n",
      "    obsp: 'connectivities', 'distances'\n",
      "HCAEmbryonicHindlimb AnnData object with n_obs × n_vars = 125955 × 717\n",
      "    obs: 'batch', 'percent_mito', 'n_counts', 'n_genes', 'doublet_scores', 'bh_pval', 'region', 'tissue', 'adj_stage', 'adj_sample', 'leiden', 'S_score', 'G2M_score', 'phase', 'leiden_R', 'celltype', 'celltype_original'\n",
      "    var: 'gene_ids', 'feature_types', 'n_cells', 'highly_variableWSSS_THYst8796437', 'highly_variableWSSS_THYst8796442', 'highly_variable5478STDY7935101', 'highly_variable5478STDY7935102', 'highly_variableWSSS_THYst8796439', 'highly_variableWSSS_THYst9384956', 'highly_variable5478STDY7717491', 'highly_variableWSSS_THYst9384953', 'highly_variable5478STDY7717492', 'highly_variableWSSS_THYst9384955', 'highly_variable5386STDY7537944', 'highly_variableWSSS_THYst9384954', 'highly_variableFCAImmP7536759', 'highly_variable5478STDY7980349', 'highly_variableWSSS_THYst8796438', 'highly_variable5478STDY7652318', 'highly_variableWSSS_THYst8796441', 'highly_variableFCAImmP7536758', 'highly_variableWSSS_THYst9384957', 'highly_variable5478STDY7980348', 'highly_variable5386STDY7557337', 'highly_variable5386STDY7557336', 'highly_variableWSSS_THYst9384958', 'highly_variableWSSS_THYst8796440', 'highly_variable5386STDY7557335', 'highly_variable_n', 'highly_variable'\n",
      "    uns: 'adj_stage_colors', 'batch_colors', 'celltype_sizes', 'leiden', 'leiden_R_colors', 'leiden_sizes', 'log1p', 'majority_voting_colors', 'markers_celltype', 'markers_new_celltype', 'neighbors', 'new_celltype_sizes', 'paga', 'pca', 'phase_colors', 'pre-annotation_colors', 'rank_genes_groups', 'region_colors', 'tissue_colors', 'umap'\n",
      "    obsm: 'X_pca', 'X_umap'\n",
      "    obsp: 'connectivities', 'distances'\n",
      "rRNAModifications View of AnnData object with n_obs × n_vars = 3421 × 696\n",
      "    obs: 'orig.ident', 'nCount_RNA', 'nFeature_RNA', 'RNA_snn_res.0.1', 'seurat_clusters', 'age', 'sample', 'RNA_snn_res.0.5', 'ident', 'celltype', 'velocity_self_transition', 'celltype_original'\n",
      "    var: 'vst.mean', 'vst.variance', 'vst.variance.expected', 'vst.variance.standardized', 'vst.variable', 'highly_variable', 'highly_variable_rank', 'means', 'variances', 'variances_norm', 'velocity_genes'\n",
      "    uns: 'age_colors', 'celltype_colors', 'hvg', 'log1p', 'neighbors', 'recover_dynamics', 'velocity_graph', 'velocity_graph_neg', 'velocity_params'\n",
      "    obsm: 'X_pca', 'X_umap', 'velocity_umap'\n",
      "    layers: 'logcounts', 'scaled'\n",
      "    obsp: 'connectivities', 'distances'\n"
     ]
    }
   ],
   "source": [
    "summary_fn =  os.path.join('..', 'data', 'summary.csv')\n",
    "features_fn = os.path.join('..', '03_signatures', 'results', 'biomart.csv')\n",
    "summary_df = pd.read_csv(summary_fn, index_col = 0)\n",
    "features_df = pd.read_csv(features_fn)\n",
    "species_dict = summary_df['species'].to_dict()\n",
    "adata_fn = sorted(glob.glob(os.path.join('..', 'data', 'processed', '*', '*.h5ad')))\n",
    "adata_dir = [os.path.split(fn)[0] for fn in adata_fn]\n",
    "adata_dict = {os.path.split(adata_dir[i])[1] : fn for i, fn in enumerate(adata_fn)}\n",
    "for key in adata_dict:\n",
    "    adata = sc.read_h5ad(adata_dict[key])\n",
    "    species = species_dict[key]\n",
    "    features_msk = adata.var_names.isin(features_df[species])\n",
    "    adata = adata[:, features_msk]\n",
    "    if species != 'mmusculus':\n",
    "        features_dict = features_df.set_index(species).mmusculus.to_dict()\n",
    "        adata.var_names = adata.var_names.map(features_dict)\n",
    "    adata_dict[key] = adata\n",
    "    print(key, adata_dict[key])"
   ]
  },
  {
   "cell_type": "code",
   "execution_count": 3,
   "id": "50f6b8bc",
   "metadata": {},
   "outputs": [
    {
     "name": "stderr",
     "output_type": "stream",
     "text": [
      "/home/caleb/miniconda3/envs/scFates/lib/python3.11/site-packages/anndata/_core/merge.py:1434: UserWarning: Only some AnnData objects have `.raw` attribute, not concatenating `.raw` attributes.\n",
      "  warn(\n",
      "/home/caleb/miniconda3/envs/scFates/lib/python3.11/site-packages/anndata/_core/anndata.py:1756: UserWarning: Observation names are not unique. To make them unique, call `.obs_names_make_unique`.\n",
      "  utils.warn_names_duplicates(\"obs\")\n"
     ]
    },
    {
     "data": {
      "text/plain": [
       "AnnData object with n_obs × n_vars = 168295 × 668\n",
       "    obs: 'celltype', 'source'\n",
       "    obsm: 'X_pca', 'X_umap'"
      ]
     },
     "execution_count": 3,
     "metadata": {},
     "output_type": "execute_result"
    }
   ],
   "source": [
    "adata = ad.concat(adata_dict, merge = 'same', label = 'source')\n",
    "adata.obs_names_make_unique()\n",
    "adata"
   ]
  },
  {
   "cell_type": "code",
   "execution_count": 4,
   "id": "d14e7344",
   "metadata": {},
   "outputs": [
    {
     "data": {
      "text/plain": [
       "View of AnnData object with n_obs × n_vars = 140799 × 668\n",
       "    obs: 'celltype', 'source'\n",
       "    obsm: 'X_pca', 'X_umap'"
      ]
     },
     "execution_count": 4,
     "metadata": {},
     "output_type": "execute_result"
    }
   ],
   "source": [
    "adata = adata[~adata.obs.celltype.isna()]\n",
    "adata"
   ]
  },
  {
   "cell_type": "code",
   "execution_count": null,
   "id": "95088f7a",
   "metadata": {},
   "outputs": [],
   "source": []
  }
 ],
 "metadata": {
  "kernelspec": {
   "display_name": "scFates",
   "language": "python",
   "name": "python3"
  },
  "language_info": {
   "codemirror_mode": {
    "name": "ipython",
    "version": 3
   },
   "file_extension": ".py",
   "mimetype": "text/x-python",
   "name": "python",
   "nbconvert_exporter": "python",
   "pygments_lexer": "ipython3",
   "version": "3.11.12"
  }
 },
 "nbformat": 4,
 "nbformat_minor": 5
}
