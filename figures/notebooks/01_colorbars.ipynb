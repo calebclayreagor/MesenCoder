{
 "cells": [
  {
   "cell_type": "code",
   "execution_count": 1,
   "id": "0ee4a515",
   "metadata": {},
   "outputs": [],
   "source": [
    "import os\n",
    "import matplotlib.pyplot as plt\n",
    "from matplotlib.colors import Normalize\n",
    "from matplotlib.colorbar import ColorbarBase"
   ]
  },
  {
   "cell_type": "code",
   "execution_count": 9,
   "id": "347a23ff",
   "metadata": {},
   "outputs": [
    {
     "data": {
      "image/png": "[encoded data removed]",
      "text/plain": [
       "<Figure size 66x100 with 1 Axes>"
      ]
     },
     "metadata": {},
     "output_type": "display_data"
    }
   ],
   "source": [
    "cmap = plt.cm.viridis\n",
    "fig = plt.figure(figsize = (.66, 1))\n",
    "cax = fig.add_axes([.35, .05, .3, .9])\n",
    "cb = ColorbarBase(cax, cmap = cmap,\n",
    "    norm = Normalize(vmin = 0, vmax = 1))\n",
    "cb.set_ticks([0, 1])\n",
    "cb.set_ticklabels(['Min', 'Max'])\n",
    "cb.ax.tick_params(size = 0)\n",
    "cb.set_label('PseudoTime')\n",
    "pth = os.path.join('..', 'preprocessing', 'trajectories')\n",
    "plt.savefig(os.path.join(pth, 'colorbar.pdf'), bbox_inches = 'tight')"
   ]
  },
  {
   "cell_type": "code",
   "execution_count": 2,
   "id": "9a6c4304",
   "metadata": {},
   "outputs": [
    {
     "data": {
      "image/png": "[encoded data removed]",
      "text/plain": [
       "<Figure size 66x100 with 1 Axes>"
      ]
     },
     "metadata": {},
     "output_type": "display_data"
    }
   ],
   "source": [
    "cmap = plt.cm.RdBu_r\n",
    "fig = plt.figure(figsize = (.66, 1))\n",
    "cax = fig.add_axes([.35, .05, .3, .9])\n",
    "cb = ColorbarBase(cax, cmap = cmap,\n",
    "    norm = Normalize(vmin = 0, vmax = 1))\n",
    "cb.set_ticks([0, 1])\n",
    "cb.set_ticklabels(['Min', 'Max'])\n",
    "cb.ax.tick_params(size = 0)\n",
    "cb.set_label('Normalized\\nExpression')\n",
    "pth = os.path.join('..', 'preprocessing', 'features')\n",
    "plt.savefig(os.path.join(pth, 'colorbar.pdf'), bbox_inches = 'tight')"
   ]
  },
  {
   "cell_type": "code",
   "execution_count": null,
   "id": "4c94d07b",
   "metadata": {},
   "outputs": [
    {
     "data": {
      "image/png": "[encoded data removed]",
      "text/plain": [
       "<Figure size 66x100 with 1 Axes>"
      ]
     },
     "metadata": {},
     "output_type": "display_data"
    }
   ],
   "source": [
    "cmap = plt.cm.inferno\n",
    "fig = plt.figure(figsize = (.66, 1))\n",
    "cax = fig.add_axes([.35, .05, .3, .9])\n",
    "cb = ColorbarBase(cax, cmap = cmap,\n",
    "    norm = Normalize(vmin = 0, vmax = 1))\n",
    "cb.set_ticks([0, 1])\n",
    "cb.set_ticklabels([0, 'Max'])\n",
    "cb.ax.tick_params(size = 0)\n",
    "cb.set_label('MesenCoder\\nScore')\n",
    "pth = os.path.join('..', 'modeling', 'processed')\n",
    "plt.savefig(os.path.join(pth, 'colorbar.pdf'), bbox_inches = 'tight')"
   ]
  },
  {
   "cell_type": "code",
   "execution_count": null,
   "id": "85be31d3",
   "metadata": {},
   "outputs": [],
   "source": []
  }
 ],
 "metadata": {
  "kernelspec": {
   "display_name": "scanpy",
   "language": "python",
   "name": "python3"
  },
  "language_info": {
   "codemirror_mode": {
    "name": "ipython",
    "version": 3
   },
   "file_extension": ".py",
   "mimetype": "text/x-python",
   "name": "python",
   "nbconvert_exporter": "python",
   "pygments_lexer": "ipython3",
   "version": "3.13.7"
  }
 },
 "nbformat": 4,
 "nbformat_minor": 5
}
