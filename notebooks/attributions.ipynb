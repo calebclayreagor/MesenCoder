{
 "cells": [
  {
   "cell_type": "code",
   "execution_count": 1,
   "id": "56c20894",
   "metadata": {},
   "outputs": [],
   "source": [
    "import os, glob\n",
    "import numpy as np\n",
    "import pandas as pd\n",
    "import scanpy as sc\n",
    "import seaborn as sns\n",
    "import matplotlib.pyplot as plt\n",
    "from scipy.sparse import csr_matrix"
   ]
  },
  {
   "cell_type": "code",
   "execution_count": 2,
   "id": "751892e5",
   "metadata": {},
   "outputs": [],
   "source": [
    "pth_in = os.path.join('..', 'data')\n",
    "pth_data = os.path.join(pth_in, 'modeling', 'interpret')\n",
    "pth_feat = os.path.join(pth_in, 'features', 'biomart')\n",
    "pth_out = os.path.join('..', 'figures')"
   ]
  },
  {
   "cell_type": "code",
   "execution_count": 3,
   "id": "01418a77",
   "metadata": {},
   "outputs": [
    {
     "data": {
      "text/plain": [
       "AnnData object with n_obs × n_vars = 1575028 × 856\n",
       "    obs: 'Stages', 'Clusters', 'Type', 'LineageAnnotations', 'celltype', 'trajectory', 'training', 'sample', 'n_genes', 'n_genes_by_counts', 'total_counts', 'total_counts_mt', 'pct_counts_mt', 'leiden', 'plates', 'devtime', 'location', 'total_counts_ERCC', 'pct_counts_ERCC', 'doublet_scores', 'CytoTRACE', 'Gut_neuron', 'Sensory', 'Symp', 'enFib', 'ChC', 'Gut_glia', 'NCC', 'Mesenchyme', 'Melanocytes', 'SatGlia', 'SC', 'BCC', 'conflict', 'assignments', 'Hub', 'Hub_leiden', 'total_counts_ribo', 'pct_counts_ribo', 'T+ Sox2+', 'batch', 'percent_mito', 'n_counts', 'bh_pval', 'region', 'tissue', 'adj_stage', 'adj_sample', 'S_score', 'G2M_score', 'phase', 'leiden_R', 'celltype_original', 'orig.ident', 'nCount_RNA', 'nFeature_RNA', 'RNA_snn_res.0.1', 'seurat_clusters', 'age', 'RNA_snn_res.0.5', 'ident', 'velocity_self_transition', 'source', 'cell_type', 'complexity', 'umap1', 'umap2', 'g1s_score', 'g2m_score', 'cell_cycle_phase', 'mp_top_score', 'mp_top', 'mp_assignment', 'ebv', 'Title', 'Category', 'Disease', 'Technology', 'Samples', 'Cells ', 'Name', 'patient', 'cell_subtype', 'disease', 'p16_status', 'site', 't_stage', 'n_stage', 'gender', 'race', 'tobacco_use', 'alcohol_use', 'hpv', 'hpv_score', 'treatment', 'procedure', 'sorting', 'cluster', 'malignant', 'sample_id', 'cell_subtype_clusters', 'tnm_stage', 'treatment_exposure', 'treatment_response', 'cell_lineage', 'type', 'clusters_by_authors', 'cell_QCpass', 'is_tumor', 'cell_compartment', 'cluster_assignment', 'metastasis', 'sex', 'prior_enzalutamide', 'prior_abiraterone', 'prior_taxane', 'prior_platinum', 'prior_sipuleucel_T', 'purity', 'has_bulk_RNA', 'cancer_cell_state', 'PSA', 'source_region', 'gleason_score', 'ERG_status', 'cores', 'post_op_gleason_score', 'margins', 'LVI', 'PNI', 'TRUS', 'MRI', 'metastatic_workup', 'post_op_psa', 'PSA_follow_up', 'time_to_follow_up', 'housekeeping_gene_expression', 'opc_variable', 'oc_like', 'ac_like', 'opc_like', 'age_group', 'cross_section', 'genes_expressed', 'MESlike2', 'MESlike1', 'AClike', 'OPClike', 'NPClike1', 'NPClike2', 'Differentiation', 'Stemness', 'clusters', 'clusters_malignant_cells', 'cluster_annotation', 'timepoint', 'expansion', 'BC_type', 'cohort', 'time_point', 'days_treated', 'treatment_arm', 'ribociclib_schedule', 'response', 'histology', 'grade', 'celltype_subset', 'cancer_type', 'ER', 'PR', 'HER2_IHC', 'HER2_ISH_ratio', 'Ki67', 'subtype_IHC', 'details_treatment', 'notable_pathological_features', 'stage', 'authors_cell_type', 'HTAN.Parent.Data.File.ID', 'Polyp_Type', 'sample_type', 'HistologicTypeSimple', 'MMR_IHC', 'MMRStatus', 'MLH1Status', 'MMRMLH1Tumor', 'TissueSite_detailed', 'TissueSiteSimple', 'HistologicGrade_detailed', 'HistologicGradeSimple', 'TumorStage', 'NodeStatus_detailed', 'NodeStatusSimple', 'MetastasisStatus', 'TumorSize', 'SizeQuantile', 'PID', 'Sex', 'Age', 'Ethnicity', 'Race', 'hpca.celltype', 'encode.celltype', 'subtype', 'tumor_stage', 'tumor_grade', 'ct_response', 'cluster_old', 'cluster_new', 'sample_site', 'treatment_phase', 'anatomical_location', 'percent.mt', 'cell_cohort', 'cell_subtype_level1', 'cell_subtype_level2', 'amp_batch', 'cluster_cd8_2', 'cluster_cd8_6', 'sort', 'sample_status', 'bcr_abl_status', 'stage_1', 'stage_2', 'responder_status', 'genotype', 'disease_subtype', 'progression_status', 'source_CCCA', 'category', 'weight_category', 'weight_source', 'weight', 'latent_z'\n",
       "    obsm: 'X_diff', 'X_diffmap', 'X_pca', 'X_pca_harmony', 'X_umap', 'velocity_umap'\n",
       "    layers: 'integrated_gradients', 'logcounts', 'palantir_imp', 'scaled'"
      ]
     },
     "execution_count": 3,
     "metadata": {},
     "output_type": "execute_result"
    }
   ],
   "source": [
    "adata = sc.read_h5ad(os.path.join(pth_data, 'training.h5ad'))\n",
    "adata"
   ]
  },
  {
   "cell_type": "code",
   "execution_count": 4,
   "id": "7e5c548d",
   "metadata": {},
   "outputs": [
    {
     "name": "stdout",
     "output_type": "stream",
     "text": [
      "EMTHallmark     hsapiens mmusculus\n",
      "0      POSTN     Postn\n",
      "1       SGCG      Sgcg\n",
      "2     PMEPA1    Pmepa1\n",
      "3       CDH2      Cdh2\n",
      "4       MSX1      Msx1\n",
      "..       ...       ...\n",
      "199     FMOD      Fmod\n",
      "200  COL11A1   Col11a1\n",
      "201     RGS4      Rgs4\n",
      "202      JUN       Jun\n",
      "203    VCAM1     Vcam1\n",
      "\n",
      "[204 rows x 2 columns]\n",
      "GSE136689    mmusculus hsapiens\n",
      "0      Map1b    MAP1B\n",
      "1       Irx1     IRX1\n",
      "2        Id2      ID2\n",
      "3     Homer2   HOMER2\n",
      "4        Clu      CLU\n",
      "..       ...      ...\n",
      "67     Aldoa    ALDOA\n",
      "68       Mmd      MMD\n",
      "69      Peg3     PEG3\n",
      "70   Slc16a3  SLC16A3\n",
      "71    Mpped2   MPPED2\n",
      "\n",
      "[72 rows x 2 columns]\n",
      "GSE162534     mmusculus  hsapiens\n",
      "0        Cdh2      CDH2\n",
      "1       Greb1     GREB1\n",
      "2        Sqle      SQLE\n",
      "3    Tnfrsf19  TNFRSF19\n",
      "4       Rspo3     RSPO3\n",
      "..        ...       ...\n",
      "201      Cst3      CST3\n",
      "202    Mogat2    MOGAT2\n",
      "203  Serpinh1  SERPINH1\n",
      "204       Sp5       SP5\n",
      "205      Peg3      PEG3\n",
      "\n",
      "[206 rows x 2 columns]\n",
      "GSE201257     mmusculus hsapiens\n",
      "0     Phactr1  PHACTR1\n",
      "1       Vcam1    VCAM1\n",
      "2         Fos      FOS\n",
      "3     Ppp1r1a  PPP1R1A\n",
      "4     Spata13  SPATA13\n",
      "..        ...      ...\n",
      "148     Celf2    CELF2\n",
      "149    Arpc1b   ARPC1B\n",
      "150     Gdpd5    GDPD5\n",
      "151    Tom1l1   TOM1L1\n",
      "152     Mfap4    MFAP4\n",
      "\n",
      "[153 rows x 2 columns]\n",
      "GSE229103     mmusculus hsapiens\n",
      "0        Fbn2     FBN2\n",
      "1       Greb1    GREB1\n",
      "2        Cdx1     CDX1\n",
      "3        Odc1     ODC1\n",
      "4       Map1b    MAP1B\n",
      "..        ...      ...\n",
      "153     Tcf15    TCF15\n",
      "154       Sp5      SP5\n",
      "155      Peg3     PEG3\n",
      "156     Nrarp    NRARP\n",
      "157    Tubb4b   TUBB4B\n",
      "\n",
      "[158 rows x 2 columns]\n",
      "HCAEmbryonicHindlimb     hsapiens mmusculus\n",
      "0     MT-CO1    mt-Co1\n",
      "1     MT-CO2    mt-Co2\n",
      "2    MT-ATP6   mt-Atp6\n",
      "3     MT-CO3    mt-Co3\n",
      "4     MT-ND3    mt-Nd3\n",
      "..       ...       ...\n",
      "162   COL5A2    Col5a2\n",
      "163     NBL1      Nbl1\n",
      "164  COL11A1   Col11a1\n",
      "165     NENF      Nenf\n",
      "166    STMN1     Stmn1\n",
      "\n",
      "[167 rows x 2 columns]\n",
      "rRNAModifications     mmusculus  hsapiens\n",
      "0       Fstl1     FSTL1\n",
      "1      Lrrc58    LRRC58\n",
      "2       Vcam1     VCAM1\n",
      "3         Myc       MYC\n",
      "4       Reep5     REEP5\n",
      "..        ...       ...\n",
      "199     Sulf2     SULF2\n",
      "200    Mogat2    MOGAT2\n",
      "201  Cdc42ep5  CDC42EP5\n",
      "202      Peg3      PEG3\n",
      "203     Mfap4     MFAP4\n",
      "\n",
      "[204 rows x 2 columns]\n"
     ]
    }
   ],
   "source": [
    "feat_fn = sorted(glob.glob(os.path.join(pth_feat, '*.csv')))\n",
    "get_name = lambda fn: os.path.split(fn)[1].replace('.csv', '')\n",
    "feat_dict = {get_name(fn) : fn for fn in feat_fn if 'union' not in fn}\n",
    "for key in feat_dict:\n",
    "    feat_dict[key] = pd.read_csv(feat_dict[key])\n",
    "    print(key, feat_dict[key])"
   ]
  },
  {
   "cell_type": "code",
   "execution_count": 5,
   "id": "3230ad80",
   "metadata": {},
   "outputs": [
    {
     "data": {
      "text/plain": [
       "Marcks     0.820915\n",
       "Eef1g      0.806805\n",
       "Rps20      0.805982\n",
       "Gabarap    0.799973\n",
       "Ncl        0.785884\n",
       "             ...   \n",
       "Dlx5       0.001846\n",
       "Sntb1     -0.001808\n",
       "Hbb-y      0.000821\n",
       "Hmga1     -0.000548\n",
       "Gadd45a    0.000379\n",
       "Length: 856, dtype: float64"
      ]
     },
     "execution_count": 5,
     "metadata": {},
     "output_type": "execute_result"
    }
   ],
   "source": [
    "# integrated_gradients vs. latent_z (correlation)\n",
    "def get_pearsonr(X: csr_matrix,\n",
    "                 y: np.ndarray,\n",
    "                 ix: pd.Index) -> pd.Series:\n",
    "    n = y.size\n",
    "    s_y, mu_y = y.std(ddof = 1), y.mean()\n",
    "    sum_x  = np.asarray(X.sum(0)).ravel()\n",
    "    sum_x2 = np.asarray(X.multiply(X).sum(0)).ravel()\n",
    "    dot = y @ X\n",
    "    mu_x = sum_x / n\n",
    "    s_x = np.sqrt((sum_x2 - n * mu_x ** 2) / (n - 1))\n",
    "    cov = (dot - n * mu_x * mu_y) / (n - 1)\n",
    "    corr = cov / (s_x * s_y)\n",
    "    corr[s_x == 0] = np.nan\n",
    "    corr = pd.Series(corr, index = ix)\n",
    "    return corr.sort_values(key = abs, ascending = False)\n",
    "\n",
    "ig = adata.layers['integrated_gradients']\n",
    "z = adata.obs.latent_z.values\n",
    "ix = adata.var_names\n",
    "corr = get_pearsonr(ig, z, ix); corr"
   ]
  },
  {
   "cell_type": "code",
   "execution_count": 6,
   "id": "a9d073a5",
   "metadata": {},
   "outputs": [
    {
     "data": {
      "text/plain": [
       "Embryonic Hindlimb            57\n",
       "Cranial Neural Crest          52\n",
       "Primitive Streak              50\n",
       "Neuromesodermal Progenitor    42\n",
       "EMT Hallmark                  34\n",
       "Schwann Cell Precursor        17\n",
       "Splanchnic Mesoderm           15\n",
       "dtype: int64"
      ]
     },
     "execution_count": 6,
     "metadata": {},
     "output_type": "execute_result"
    }
   ],
   "source": [
    "# top attributed features\n",
    "n = 200; top_feats = corr.head(n).index\n",
    "summary_df = pd.read_csv(os.path.join(pth_in, 'summary.csv'), index_col = 0)\n",
    "vals = {key : df.mmusculus.isin(top_feats).sum() for key, df in feat_dict.items()}\n",
    "vals = pd.Series(vals); vals.index = vals.index.map(summary_df.Name.to_dict())\n",
    "vals.sort_values(ascending = False, inplace = True); vals"
   ]
  },
  {
   "cell_type": "code",
   "execution_count": 15,
   "id": "63a3e74b",
   "metadata": {},
   "outputs": [
    {
     "name": "stderr",
     "output_type": "stream",
     "text": [
      "/tmp/ipykernel_3351278/2729350612.py:13: UserWarning: set_ticklabels() should only be used with a fixed number of ticks, i.e. after set_ticks() or using a FixedLocator.\n",
      "  ax1.set_xticklabels(ax1.get_xticklabels(), size = 7)\n",
      "/tmp/ipykernel_3351278/2729350612.py:14: UserWarning: set_ticklabels() should only be used with a fixed number of ticks, i.e. after set_ticks() or using a FixedLocator.\n",
      "  ax1.set_yticklabels(ax1.get_yticklabels(), size = 7)\n"
     ]
    },
    {
     "data": {
      "image/png": "[encoded data removed]",
      "text/plain": [
       "<Figure size 350x300 with 1 Axes>"
      ]
     },
     "metadata": {},
     "output_type": "display_data"
    }
   ],
   "source": [
    "# plot score/attribution correlations\n",
    "fig, ax = plt.subplots(1, 1, figsize = (3.5, 3))\n",
    "ax.plot(corr.abs().values)\n",
    "ax.set_xlabel('Feature Rank')\n",
    "ax.set_ylabel(r'Feature Correlation $|r|$')\n",
    "ax.set_title('Mesenchymization: Attribution', size = 10)\n",
    "\n",
    "# inset: top features\n",
    "ax1 = ax.inset_axes([.795, .5, .15, .4])\n",
    "sns.barplot(vals, ax = ax1, orient = 'h')\n",
    "ax1.set_title(f'Top {n}', size = 7, pad = 4)\n",
    "ax1.set_xlabel('Features', size = 7)\n",
    "ax1.set_xticklabels(ax1.get_xticklabels(), size = 7)\n",
    "ax1.set_yticklabels(ax1.get_yticklabels(), size = 7)\n",
    "ax1.tick_params('y', size = 0)\n",
    "\n",
    "fn = os.path.join(pth_out, 'attributions.svg')\n",
    "plt.savefig(fn, bbox_inches = 'tight')"
   ]
  },
  {
   "cell_type": "code",
   "execution_count": null,
   "id": "cf3cd7cc",
   "metadata": {},
   "outputs": [],
   "source": []
  }
 ],
 "metadata": {
  "kernelspec": {
   "display_name": "scanpy",
   "language": "python",
   "name": "python3"
  },
  "language_info": {
   "codemirror_mode": {
    "name": "ipython",
    "version": 3
   },
   "file_extension": ".py",
   "mimetype": "text/x-python",
   "name": "python",
   "nbconvert_exporter": "python",
   "pygments_lexer": "ipython3",
   "version": "3.13.2"
  }
 },
 "nbformat": 4,
 "nbformat_minor": 5
}
