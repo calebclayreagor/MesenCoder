{
 "cells": [
  {
   "cell_type": "code",
   "execution_count": 1,
   "id": "d99ffcce",
   "metadata": {},
   "outputs": [],
   "source": [
    "import os\n",
    "import numpy as np\n",
    "import pandas as pd\n",
    "import scanpy as sc\n",
    "import seaborn as sns\n",
    "import matplotlib.pyplot as plt\n",
    "from scipy.stats import mannwhitneyu\n",
    "from lifelines import KaplanMeierFitter"
   ]
  },
  {
   "cell_type": "code",
   "execution_count": 2,
   "id": "cb6330a4",
   "metadata": {},
   "outputs": [
    {
     "data": {
      "text/plain": [
       "AnnData object with n_obs × n_vars = 534 × 856\n",
       "    obs: 'id', 'disease_type', 'case_id', 'submitter_id', 'primary_site', 'alcohol_history.exposures', 'race.demographic', 'gender.demographic', 'ethnicity.demographic', 'vital_status.demographic', 'age_at_index.demographic', 'days_to_birth.demographic', 'year_of_birth.demographic', 'year_of_death.demographic', 'primary_site.project', 'project_id.project', 'disease_type.project', 'name.project', 'name.program.project', 'tissue_source_site_id.tissue_source_site', 'code.tissue_source_site', 'name.tissue_source_site', 'project.tissue_source_site', 'bcr_id.tissue_source_site', 'days_to_death.demographic', 'entity_submitter_id.annotations', 'notes.annotations', 'submitter_id.annotations', 'classification.annotations', 'entity_id.annotations', 'created_datetime.annotations', 'annotation_id.annotations', 'entity_type.annotations', 'updated_datetime.annotations', 'case_id.annotations', 'state.annotations', 'category.annotations', 'status.annotations', 'case_submitter_id.annotations', 'synchronous_malignancy.diagnoses', 'morphology.diagnoses', 'days_to_diagnosis.diagnoses', 'last_known_disease_status.diagnoses', 'tissue_or_organ_of_origin.diagnoses', 'days_to_last_follow_up.diagnoses', 'age_at_diagnosis.diagnoses', 'primary_diagnosis.diagnoses', 'classification_of_tumor.diagnoses', 'prior_malignancy.diagnoses', 'year_of_diagnosis.diagnoses', 'icd_10_code.diagnoses', 'site_of_resection_or_biopsy.diagnoses', 'prior_treatment.diagnoses', 'tumor_grade.diagnoses', 'progression_or_recurrence.diagnoses', 'age_at_earliest_diagnosis.diagnoses.xena_derived', 'age_at_earliest_diagnosis_in_years.diagnoses.xena_derived', 'updated_datetime.treatments.diagnoses', 'treatment_id.treatments.diagnoses', 'submitter_id.treatments.diagnoses', 'treatment_type.treatments.diagnoses', 'state.treatments.diagnoses', 'treatment_or_therapy.treatments.diagnoses', 'created_datetime.treatments.diagnoses', 'sample_type_id.samples', 'tumor_descriptor.samples', 'sample_id.samples', 'sample_type.samples', 'oct_embedded.samples', 'specimen_type.samples', 'is_ffpe.samples', 'tissue_type.samples', 'preservation_method.samples', 'composition.samples', 'days_to_collection.samples', 'initial_weight.samples', 'intermediate_dimension.samples', 'pathology_report_uuid.samples', 'shortest_dimension.samples', 'longest_dimension.samples', 'OS.time', 'OS', '_PATIENT', 'source', 'latent_z'"
      ]
     },
     "execution_count": 2,
     "metadata": {},
     "output_type": "execute_result"
    }
   ],
   "source": [
    "datadir = os.path.join('..', 'data', 'modeling', 'predict')\n",
    "adata = sc.read_h5ad(os.path.join(datadir, 'TCGA_LGG.h5ad'))\n",
    "adata"
   ]
  },
  {
   "cell_type": "code",
   "execution_count": 32,
   "id": "cfdad420",
   "metadata": {},
   "outputs": [
    {
     "data": {
      "image/png": "[encoded data removed]",
      "text/plain": [
       "<Figure size 350x100 with 1 Axes>"
      ]
     },
     "metadata": {},
     "output_type": "display_data"
    }
   ],
   "source": [
    "fig, ax = plt.subplots(1, 1, figsize = (3.5, 1))\n",
    "sns.violinplot(adata.obs, x = 'latent_z', ax = ax)\n",
    "ax.set_yticks([])\n",
    "ax.set_xlabel(r'$z$')\n",
    "plt.show()"
   ]
  },
  {
   "cell_type": "code",
   "execution_count": null,
   "id": "4c3dd40d",
   "metadata": {},
   "outputs": [],
   "source": [
    "# fig, ax = plt.subplots(1, 1, figsize = (1.8, 4))\n",
    "# sns.boxplot(adata.obs,\n",
    "#             x = 'tumor_descriptor.samples',\n",
    "#             y = 'latent_z',\n",
    "#             order = ['Metastatic', 'Primary'],\n",
    "#             fliersize = 0, ax = ax)\n",
    "# ax.set_ylim(.89, 1.2)\n",
    "# ax.set_xlabel('')\n",
    "# plt.show()\n",
    "\n",
    "# cat = adata.obs['tumor_descriptor.samples']\n",
    "# msk_primary = (cat == 'Primary')\n",
    "# msk_metastatic = (cat == 'Metastatic')\n",
    "# z_primary = adata[msk_primary].obs.latent_z\n",
    "# z_metastatic = adata[msk_metastatic].obs.latent_z\n",
    "# print(mannwhitneyu(z_metastatic, z_primary).pvalue)"
   ]
  },
  {
   "cell_type": "code",
   "execution_count": 51,
   "id": "762cae3e",
   "metadata": {},
   "outputs": [
    {
     "name": "stderr",
     "output_type": "stream",
     "text": [
      "/tmp/ipykernel_2676636/1237861728.py:14: FutureWarning: The default of observed=False is deprecated and will be changed to True in a future version of pandas. Pass observed=False to retain current behavior or observed=True to adopt the future default and silence this warning.\n",
      "  df = df.groupby('_PATIENT').agg(aggdict)\n"
     ]
    },
    {
     "data": {
      "text/plain": [
       "(0.0, 7.0)"
      ]
     },
     "execution_count": 51,
     "metadata": {},
     "output_type": "execute_result"
    },
    {
     "data": {
      "image/png": "[encoded data removed]",
      "text/plain": [
       "<Figure size 400x300 with 1 Axes>"
      ]
     },
     "metadata": {},
     "output_type": "display_data"
    }
   ],
   "source": [
    "colnames = {'OS'       : float,\n",
    "            'OS.time'  : float,\n",
    "            'latent_z' : float,\n",
    "            '_PATIENT' : 'category'}\n",
    "\n",
    "aggdict = {'OS'       : 'first',\n",
    "           'OS.time'  : 'first',\n",
    "           'latent_z' : 'mean'}\n",
    "\n",
    "df = adata.obs.copy()\n",
    "df = df[colnames.keys()].copy()\n",
    "for key, val in colnames.items():\n",
    "    df[key] = df[key].astype(val)\n",
    "df = df.groupby('_PATIENT').agg(aggdict)\n",
    "df.dropna(axis = 0, inplace = True)\n",
    "df['OS.time'] /= 365.\n",
    "\n",
    "plt.figure(figsize = (4, 3))\n",
    "kmf = KaplanMeierFitter()\n",
    "ix = df.latent_z > df.latent_z.quantile(.66)\n",
    "kmf.fit(df.loc[ix, 'OS.time'], df.loc[ix, 'OS'], label = 'z_high')\n",
    "ax = kmf.plot_survival_function()\n",
    "\n",
    "ix = df.latent_z < df.latent_z.quantile(.33)\n",
    "kmf.fit(df.loc[ix, 'OS.time'], df.loc[ix, 'OS'], label = 'z_low')\n",
    "ax = kmf.plot_survival_function()\n",
    "\n",
    "ax.set_xlim([0, 7])"
   ]
  },
  {
   "cell_type": "code",
   "execution_count": null,
   "id": "4368c3ee",
   "metadata": {},
   "outputs": [],
   "source": []
  }
 ],
 "metadata": {
  "kernelspec": {
   "display_name": "survival",
   "language": "python",
   "name": "python3"
  },
  "language_info": {
   "codemirror_mode": {
    "name": "ipython",
    "version": 3
   },
   "file_extension": ".py",
   "mimetype": "text/x-python",
   "name": "python",
   "nbconvert_exporter": "python",
   "pygments_lexer": "ipython3",
   "version": "3.13.5"
  }
 },
 "nbformat": 4,
 "nbformat_minor": 5
}
