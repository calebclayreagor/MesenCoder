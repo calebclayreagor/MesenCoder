{
 "cells": [
  {
   "cell_type": "code",
   "execution_count": 1,
   "id": "80a1f117",
   "metadata": {},
   "outputs": [],
   "source": [
    "import os\n",
    "import numpy as np\n",
    "import scanpy as sc\n",
    "import anndata as ad\n",
    "import matplotlib.pyplot as plt\n",
    "from matplotlib.colors import Normalize\n",
    "import textwrap"
   ]
  },
  {
   "cell_type": "code",
   "execution_count": 2,
   "id": "00deef79",
   "metadata": {},
   "outputs": [],
   "source": [
    "def get_latent_theta(adata: ad.AnnData) -> np.ndarray:\n",
    "    X = adata.obsm['X_latent']\n",
    "    theta = -np.arctan2(-X[:, 1], X[:, 0]) + np.pi\n",
    "    return theta"
   ]
  },
  {
   "cell_type": "code",
   "execution_count": 3,
   "id": "618dec6d",
   "metadata": {},
   "outputs": [],
   "source": [
    "pth = os.path.join('..', 'data', 'modeling', 'testing', 'CCCA')\n",
    "adata_malignant = sc.read_h5ad(os.path.join(pth, 'malignant_latent.h5ad'))\n",
    "adata_other1 = sc.read_h5ad(os.path.join(pth, 'other_latent_1.h5ad'))\n",
    "adata_other2 = sc.read_h5ad(os.path.join(pth, 'other_latent_2.h5ad'))\n",
    "adata_other = ad.concat((adata_other1, adata_other2))"
   ]
  },
  {
   "cell_type": "code",
   "execution_count": 4,
   "id": "f1a20b8c",
   "metadata": {},
   "outputs": [
    {
     "data": {
      "text/plain": [
       "AnnData object with n_obs × n_vars = 1434229 × 723\n",
       "    obs: 'sample', 'cell_type', 'complexity', 'umap1', 'umap2', 'g1s_score', 'g2m_score', 'cell_cycle_phase', 'mp_top_score', 'mp_top', 'mp_assignment', 'ebv', 'Title', 'Category', 'Disease', 'Technology', 'Samples', 'Cells ', 'Name', 'patient', 'cell_subtype', 'source', 'disease', 'p16_status', 'site', 't_stage', 'n_stage', 'gender', 'race', 'age', 'tobacco_use', 'alcohol_use', 'hpv', 'hpv_score', 'treatment', 'procedure', 'sorting', 'cluster', 'malignant', 'sample_id', 'cell_subtype_clusters', 'tnm_stage', 'treatment_exposure', 'treatment_response', 'cell_lineage', 'type', 'clusters_by_authors', 'cell_QCpass', 'is_tumor', 'cell_compartment', 'cluster_assignment', 'metastasis', 'sex', 'prior_enzalutamide', 'prior_abiraterone', 'prior_taxane', 'prior_platinum', 'prior_sipuleucel_T', 'purity', 'has_bulk_RNA', 'cancer_cell_state', 'PSA', 'source_region', 'gleason_score', 'ERG_status', 'cores', 'post_op_gleason_score', 'margins', 'LVI', 'PNI', 'TRUS', 'MRI', 'metastatic_workup', 'post_op_psa', 'PSA_follow_up', 'time_to_follow_up', 'housekeeping_gene_expression', 'opc_variable', 'oc_like', 'ac_like', 'opc_like', 'age_group', 'cross_section', 'genes_expressed', 'MESlike2', 'MESlike1', 'AClike', 'OPClike', 'NPClike1', 'NPClike2', 'Differentiation', 'Stemness', 'clusters', 'clusters_malignant_cells', 'cluster_annotation', 'timepoint', 'nCount_RNA', 'nFeature_RNA', 'expansion', 'BC_type', 'cohort', 'time_point', 'days_treated', 'treatment_arm', 'ribociclib_schedule', 'response', 'histology', 'grade', 'celltype_subset', 'cancer_type', 'ER', 'PR', 'HER2_IHC', 'HER2_ISH_ratio', 'Ki67', 'subtype_IHC', 'details_treatment', 'notable_pathological_features', 'stage', 'authors_cell_type', 'HTAN.Parent.Data.File.ID', 'Polyp_Type', 'sample_type', 'HistologicTypeSimple', 'MMR_IHC', 'MMRStatus', 'MLH1Status', 'MMRMLH1Tumor', 'TissueSite_detailed', 'TissueSiteSimple', 'HistologicGrade_detailed', 'HistologicGradeSimple', 'TumorStage', 'NodeStatus_detailed', 'NodeStatusSimple', 'MetastasisStatus', 'TumorSize', 'SizeQuantile', 'PID', 'Sex', 'Age', 'Ethnicity', 'Race', 'hpca.celltype', 'encode.celltype', 'subtype', 'tumor_stage', 'tumor_grade', 'ct_response', 'cluster_old', 'cluster_new', 'sample_site', 'treatment_phase', 'anatomical_location', 'percent.mt', 'cell_cohort', 'cell_subtype_level1', 'cell_subtype_level2', 'amp_batch', 'location', 'cluster_cd8_2', 'cluster_cd8_6', 'sort', 'sample_status', 'batch', 'bcr_abl_status', 'stage_1', 'stage_2', 'responder_status', 'genotype', 'disease_subtype', 'progression_status', 'weight', 'celltype'\n",
       "    obsm: 'X_latent'\n",
       "    varm: 'MesenCoder_logvar', 'MesenCoder_mu', 'MesenCoder_scale'\n",
       "    layers: 'MesenCoder'"
      ]
     },
     "execution_count": 4,
     "metadata": {},
     "output_type": "execute_result"
    }
   ],
   "source": [
    "adata_malignant"
   ]
  },
  {
   "cell_type": "code",
   "execution_count": 5,
   "id": "c8a777fe",
   "metadata": {},
   "outputs": [
    {
     "data": {
      "text/plain": [
       "AnnData object with n_obs × n_vars = 3368204 × 723\n",
       "    obs: 'sample', 'cell_type', 'complexity', 'umap1', 'umap2', 'g1s_score', 'g2m_score', 'cell_cycle_phase', 'mp_top_score', 'mp_top', 'mp_assignment', 'ebv', 'Title', 'Category', 'Disease', 'Technology', 'Samples', 'Cells ', 'Name', 'patient', 'cell_subtype', 'source', 'disease', 'p16_status', 'site', 't_stage', 'n_stage', 'gender', 'race', 'age', 'tobacco_use', 'alcohol_use', 'hpv', 'hpv_score', 'treatment', 'procedure', 'sorting', 'cluster', 'malignant', 'sample_id', 'cell_subtype_clusters', 'tnm_stage', 'treatment_exposure', 'treatment_response', 'cell_lineage', 'type', 'clusters_by_authors', 'cell_QCpass', 'is_tumor', 'cell_compartment', 'cluster_assignment', 'metastasis', 'sex', 'prior_enzalutamide', 'prior_abiraterone', 'prior_taxane', 'prior_platinum', 'prior_sipuleucel_T', 'purity', 'has_bulk_RNA', 'cancer_cell_state', 'PSA', 'source_region', 'gleason_score', 'ERG_status', 'cores', 'post_op_gleason_score', 'margins', 'LVI', 'PNI', 'TRUS', 'MRI', 'metastatic_workup', 'post_op_psa', 'PSA_follow_up', 'time_to_follow_up', 'housekeeping_gene_expression', 'opc_variable', 'oc_like', 'ac_like', 'opc_like', 'age_group', 'cross_section', 'genes_expressed', 'MESlike2', 'MESlike1', 'AClike', 'OPClike', 'NPClike1', 'NPClike2', 'Differentiation', 'Stemness', 'clusters', 'clusters_malignant_cells', 'cluster_annotation', 'timepoint', 'nCount_RNA', 'nFeature_RNA', 'expansion', 'BC_type', 'cohort', 'time_point', 'days_treated', 'treatment_arm', 'ribociclib_schedule', 'response', 'histology', 'grade', 'celltype_subset', 'cancer_type', 'ER', 'PR', 'HER2_IHC', 'HER2_ISH_ratio', 'Ki67', 'subtype_IHC', 'details_treatment', 'notable_pathological_features', 'stage', 'authors_cell_type', 'HTAN.Parent.Data.File.ID', 'Polyp_Type', 'sample_type', 'HistologicTypeSimple', 'MMR_IHC', 'MMRStatus', 'MLH1Status', 'MMRMLH1Tumor', 'TissueSite_detailed', 'TissueSiteSimple', 'HistologicGrade_detailed', 'HistologicGradeSimple', 'TumorStage', 'NodeStatus_detailed', 'NodeStatusSimple', 'MetastasisStatus', 'TumorSize', 'SizeQuantile', 'PID', 'Sex', 'Age', 'Ethnicity', 'Race', 'hpca.celltype', 'encode.celltype', 'subtype', 'tumor_stage', 'tumor_grade', 'ct_response', 'cluster_old', 'cluster_new', 'sample_site', 'treatment_phase', 'anatomical_location', 'percent.mt', 'cell_cohort', 'cell_subtype_level1', 'cell_subtype_level2', 'amp_batch', 'location', 'cluster_cd8_2', 'cluster_cd8_6', 'sort', 'sample_status', 'batch', 'bcr_abl_status', 'stage_1', 'stage_2', 'responder_status', 'genotype', 'disease_subtype', 'progression_status', 'weight', 'celltype'\n",
       "    obsm: 'X_latent'\n",
       "    layers: 'MesenCoder'"
      ]
     },
     "execution_count": 5,
     "metadata": {},
     "output_type": "execute_result"
    }
   ],
   "source": [
    "adata_other"
   ]
  },
  {
   "cell_type": "code",
   "execution_count": 6,
   "id": "2995abcf",
   "metadata": {},
   "outputs": [],
   "source": [
    "adata_malignant.obs['theta'] = get_latent_theta(adata_malignant)\n",
    "adata_other.obs['theta'] = get_latent_theta(adata_other)"
   ]
  },
  {
   "cell_type": "code",
   "execution_count": 7,
   "id": "41e3d62d",
   "metadata": {},
   "outputs": [
    {
     "data": {
      "image/png": "[encoded data removed]",
      "text/plain": [
       "<Figure size 200x200 with 1 Axes>"
      ]
     },
     "metadata": {},
     "output_type": "display_data"
    }
   ],
   "source": [
    "nbins, theta_lim, xtick_lim, cmap = 15, [0, np.pi], [1, 5], plt.cm.viridis\n",
    "bins = np.linspace(*theta_lim, nbins + 1)\n",
    "locs = (bins[:-1] + bins[1:]) / 2\n",
    "widths = np.diff(bins)\n",
    "norm = Normalize(*theta_lim)\n",
    "colors = [cmap(norm(l)) for l in locs]\n",
    "xtick_diff = xtick_lim[1] - xtick_lim[0]\n",
    "xticks = np.linspace(*theta_lim, xtick_diff + 1)\n",
    "xticklabels = (xtick_lim[0] + (xtick_diff * xticks) / np.pi).astype(int)\n",
    "\n",
    "fig, ax = plt.subplots(1, 1, figsize = (2, 2), subplot_kw = {'projection' : 'polar'})\n",
    "counts, _ = np.histogram(adata_malignant.obs.theta, bins = bins)\n",
    "bars = ax.bar(locs, counts, width = widths, bottom = 0)\n",
    "\n",
    "for b, c in zip(bars, colors):\n",
    "    b.set_facecolor(c)\n",
    "\n",
    "ax.set_theta_zero_location('W')\n",
    "ax.set_theta_direction(-1)\n",
    "ax.set_thetamin(0)\n",
    "ax.set_thetamax(180)\n",
    "ax.set_yticks([])\n",
    "ax.set_xticks(xticks, xticklabels, fontsize = 10)\n",
    "ax.tick_params('x', pad = -3.5)\n",
    "ax.set_title('CCCA — Malignant', size = 11)\n",
    "ax.grid(False)\n",
    "\n",
    "ylim1 = ax.get_ylim()[1]\n",
    "ytick_loc = [.85 * ylim1, ylim1]\n",
    "for theta in xticks:\n",
    "    ax.plot([theta] * 2, ytick_loc, c = 'k', lw = 1)\n",
    "ax.set_ylim(top = ylim1)\n",
    "\n",
    "plt.show()"
   ]
  },
  {
   "cell_type": "code",
   "execution_count": 8,
   "id": "a60aa44b",
   "metadata": {},
   "outputs": [
    {
     "data": {
      "image/png": "[encoded data removed]",
      "text/plain": [
       "<Figure size 200x200 with 1 Axes>"
      ]
     },
     "metadata": {},
     "output_type": "display_data"
    }
   ],
   "source": [
    "fig, ax = plt.subplots(1, 1, figsize = (2, 2), subplot_kw = {'projection' : 'polar'})\n",
    "counts, _ = np.histogram(adata_other.obs.theta, bins = bins)\n",
    "bars = ax.bar(locs, counts, width = widths, bottom = 0)\n",
    "\n",
    "for b, c in zip(bars, colors):\n",
    "    b.set_facecolor(c)\n",
    "\n",
    "ax.set_theta_zero_location('W')\n",
    "ax.set_theta_direction(-1)\n",
    "ax.set_thetamin(0)\n",
    "ax.set_thetamax(180)\n",
    "ax.set_yticks([])\n",
    "ax.set_xticks(xticks, xticklabels, fontsize = 10)\n",
    "ax.tick_params('x', pad = -3.5)\n",
    "ax.set_title('CCCA — Other', size = 11)\n",
    "ax.grid(False)\n",
    "\n",
    "ylim1 = ax.get_ylim()[1]\n",
    "ytick_loc = [.85 * ylim1, ylim1]\n",
    "for theta in xticks:\n",
    "    ax.plot([theta] * 2, ytick_loc, c = 'k', lw = 1)\n",
    "ax.set_ylim(top = ylim1)\n",
    "\n",
    "plt.show()"
   ]
  },
  {
   "cell_type": "code",
   "execution_count": null,
   "id": "ce0c9a84",
   "metadata": {},
   "outputs": [],
   "source": [
    "# ncol, nbins, theta_lim, xtick_lim, cmap = 5, 15, [0, np.pi], [1, 5], plt.cm.viridis\n",
    "# theta_df = adata.obs.groupby('Disease').theta.mean().sort_values()\n",
    "# nrow = theta_df.size // ncol + 1\n",
    "# bins = np.linspace(*theta_lim, nbins + 1)\n",
    "# locs = (bins[:-1] + bins[1:]) / 2\n",
    "# widths = np.diff(bins)\n",
    "# norm = Normalize(*theta_lim)\n",
    "# colors = [cmap(norm(l)) for l in locs]\n",
    "# xtick_diff = xtick_lim[1] - xtick_lim[0]\n",
    "# xticks = np.linspace(*theta_lim, xtick_diff + 1)\n",
    "# xticklabels = (xtick_lim[0] + (xtick_diff * xticks) / np.pi).astype(int)\n",
    "\n",
    "# fig, ax = plt.subplots(nrow, ncol, figsize = (12, 12), subplot_kw = {'projection' : 'polar'})\n",
    "# for i in range(nrow * ncol):\n",
    "#     row_i, col_i = i // ncol, i % ncol\n",
    "#     ax_i = ax[row_i, col_i]\n",
    "\n",
    "#     if i < theta_df.size:\n",
    "#         disease_i = theta_df.index[i]\n",
    "#         msk_i = adata.obs.Disease.isin([disease_i])\n",
    "#         theta_i = adata[msk_i].obs.theta.values\n",
    "#         counts_i, _ = np.histogram(theta_i, bins = bins)\n",
    "#         bars_i = ax_i.bar(locs, counts_i, width = widths, bottom = 0)\n",
    "\n",
    "#         for b, c in zip(bars_i, colors):\n",
    "#             b.set_facecolor(c)\n",
    "        \n",
    "#         ax_i.set_theta_zero_location('W')\n",
    "#         ax_i.set_theta_direction(-1)\n",
    "#         ax_i.set_thetamin(0)\n",
    "#         ax_i.set_thetamax(180)\n",
    "#         ax_i.set_yticks([])\n",
    "#         ax_i.set_xticks(xticks, xticklabels, fontsize = 8)\n",
    "#         ax_i.tick_params('x', pad = -3.5)\n",
    "#         title_i = '\\n'.join(textwrap.wrap(disease_i, width = 25))\n",
    "#         ax_i.set_title(title_i, y = .95, size = 8.5, va = 'center')\n",
    "#         ax_i.grid(False)\n",
    "\n",
    "#         ylim1 = ax_i.get_ylim()[1]\n",
    "#         ytick_loc = [.85 * ylim1, ylim1]\n",
    "#         for theta in xticks:\n",
    "#             ax_i.plot([theta] * 2, ytick_loc, c = 'k', lw = 1)\n",
    "#         ax_i.set_ylim(top = ylim1)\n",
    "\n",
    "#     else:\n",
    "#         ax_i.set_visible(False)\n",
    "\n",
    "# fig.subplots_adjust(wspace = 0, hspace = .1)\n",
    "# plt.show()"
   ]
  },
  {
   "cell_type": "code",
   "execution_count": null,
   "id": "27c54623",
   "metadata": {},
   "outputs": [],
   "source": []
  }
 ],
 "metadata": {
  "kernelspec": {
   "display_name": "scanpy",
   "language": "python",
   "name": "python3"
  },
  "language_info": {
   "codemirror_mode": {
    "name": "ipython",
    "version": 3
   },
   "file_extension": ".py",
   "mimetype": "text/x-python",
   "name": "python",
   "nbconvert_exporter": "python",
   "pygments_lexer": "ipython3",
   "version": "3.13.2"
  }
 },
 "nbformat": 4,
 "nbformat_minor": 5
}
