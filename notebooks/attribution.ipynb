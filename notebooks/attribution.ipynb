{
 "cells": [
  {
   "cell_type": "code",
   "execution_count": null,
   "id": "56c20894",
   "metadata": {},
   "outputs": [],
   "source": [
    "import os\n",
    "import numpy as np\n",
    "import pandas as pd\n",
    "import scanpy as sc\n",
    "import matplotlib.pyplot as plt\n",
    "from scipy.sparse import csr_matrix"
   ]
  },
  {
   "cell_type": "code",
   "execution_count": 2,
   "id": "01418a77",
   "metadata": {},
   "outputs": [
    {
     "data": {
      "text/plain": [
       "AnnData object with n_obs × n_vars = 1575028 × 856\n",
       "    obs: 'Stages', 'Clusters', 'Type', 'LineageAnnotations', 'celltype', 'trajectory', 'training', 'sample', 'n_genes', 'n_genes_by_counts', 'total_counts', 'total_counts_mt', 'pct_counts_mt', 'leiden', 'plates', 'devtime', 'location', 'total_counts_ERCC', 'pct_counts_ERCC', 'doublet_scores', 'CytoTRACE', 'Gut_neuron', 'Sensory', 'Symp', 'enFib', 'ChC', 'Gut_glia', 'NCC', 'Mesenchyme', 'Melanocytes', 'SatGlia', 'SC', 'BCC', 'conflict', 'assignments', 'Hub', 'Hub_leiden', 'total_counts_ribo', 'pct_counts_ribo', 'T+ Sox2+', 'batch', 'percent_mito', 'n_counts', 'bh_pval', 'region', 'tissue', 'adj_stage', 'adj_sample', 'S_score', 'G2M_score', 'phase', 'leiden_R', 'celltype_original', 'orig.ident', 'nCount_RNA', 'nFeature_RNA', 'RNA_snn_res.0.1', 'seurat_clusters', 'age', 'RNA_snn_res.0.5', 'ident', 'velocity_self_transition', 'source', 'cell_type', 'complexity', 'umap1', 'umap2', 'g1s_score', 'g2m_score', 'cell_cycle_phase', 'mp_top_score', 'mp_top', 'mp_assignment', 'ebv', 'Title', 'Category', 'Disease', 'Technology', 'Samples', 'Cells ', 'Name', 'patient', 'cell_subtype', 'disease', 'p16_status', 'site', 't_stage', 'n_stage', 'gender', 'race', 'tobacco_use', 'alcohol_use', 'hpv', 'hpv_score', 'treatment', 'procedure', 'sorting', 'cluster', 'malignant', 'sample_id', 'cell_subtype_clusters', 'tnm_stage', 'treatment_exposure', 'treatment_response', 'cell_lineage', 'type', 'clusters_by_authors', 'cell_QCpass', 'is_tumor', 'cell_compartment', 'cluster_assignment', 'metastasis', 'sex', 'prior_enzalutamide', 'prior_abiraterone', 'prior_taxane', 'prior_platinum', 'prior_sipuleucel_T', 'purity', 'has_bulk_RNA', 'cancer_cell_state', 'PSA', 'source_region', 'gleason_score', 'ERG_status', 'cores', 'post_op_gleason_score', 'margins', 'LVI', 'PNI', 'TRUS', 'MRI', 'metastatic_workup', 'post_op_psa', 'PSA_follow_up', 'time_to_follow_up', 'housekeeping_gene_expression', 'opc_variable', 'oc_like', 'ac_like', 'opc_like', 'age_group', 'cross_section', 'genes_expressed', 'MESlike2', 'MESlike1', 'AClike', 'OPClike', 'NPClike1', 'NPClike2', 'Differentiation', 'Stemness', 'clusters', 'clusters_malignant_cells', 'cluster_annotation', 'timepoint', 'expansion', 'BC_type', 'cohort', 'time_point', 'days_treated', 'treatment_arm', 'ribociclib_schedule', 'response', 'histology', 'grade', 'celltype_subset', 'cancer_type', 'ER', 'PR', 'HER2_IHC', 'HER2_ISH_ratio', 'Ki67', 'subtype_IHC', 'details_treatment', 'notable_pathological_features', 'stage', 'authors_cell_type', 'HTAN.Parent.Data.File.ID', 'Polyp_Type', 'sample_type', 'HistologicTypeSimple', 'MMR_IHC', 'MMRStatus', 'MLH1Status', 'MMRMLH1Tumor', 'TissueSite_detailed', 'TissueSiteSimple', 'HistologicGrade_detailed', 'HistologicGradeSimple', 'TumorStage', 'NodeStatus_detailed', 'NodeStatusSimple', 'MetastasisStatus', 'TumorSize', 'SizeQuantile', 'PID', 'Sex', 'Age', 'Ethnicity', 'Race', 'hpca.celltype', 'encode.celltype', 'subtype', 'tumor_stage', 'tumor_grade', 'ct_response', 'cluster_old', 'cluster_new', 'sample_site', 'treatment_phase', 'anatomical_location', 'percent.mt', 'cell_cohort', 'cell_subtype_level1', 'cell_subtype_level2', 'amp_batch', 'cluster_cd8_2', 'cluster_cd8_6', 'sort', 'sample_status', 'bcr_abl_status', 'stage_1', 'stage_2', 'responder_status', 'genotype', 'disease_subtype', 'progression_status', 'source_CCCA', 'category', 'weight_category', 'weight_source', 'weight', 'latent_z'\n",
       "    obsm: 'X_diff', 'X_diffmap', 'X_pca', 'X_pca_harmony', 'X_umap', 'velocity_umap'\n",
       "    layers: 'integrated_gradients', 'logcounts', 'palantir_imp', 'scaled'"
      ]
     },
     "execution_count": 2,
     "metadata": {},
     "output_type": "execute_result"
    }
   ],
   "source": [
    "datadir = os.path.join('..', 'data', 'modeling', 'interpret')\n",
    "adata = sc.read_h5ad(os.path.join(datadir, 'training.h5ad'))\n",
    "adata"
   ]
  },
  {
   "cell_type": "code",
   "execution_count": null,
   "id": "3230ad80",
   "metadata": {},
   "outputs": [
    {
     "data": {
      "text/plain": [
       "Marcks     0.820915\n",
       "Eef1g      0.806805\n",
       "Rps20      0.805982\n",
       "Gabarap    0.799973\n",
       "Ncl        0.785884\n",
       "             ...   \n",
       "Dlx5       0.001846\n",
       "Sntb1     -0.001808\n",
       "Hbb-y      0.000821\n",
       "Hmga1     -0.000548\n",
       "Gadd45a    0.000379\n",
       "Name: pearsonr, Length: 856, dtype: float64"
      ]
     },
     "execution_count": 15,
     "metadata": {},
     "output_type": "execute_result"
    }
   ],
   "source": [
    "def get_pearsonr(X: csr_matrix, y: np.ndarray) -> np.ndarray:\n",
    "    n = y.size\n",
    "    s_y, mu_y = y.std(ddof = 1), y.mean()\n",
    "    sum_x  = np.asarray(X.sum(0)).ravel()\n",
    "    sum_x2 = np.asarray(X.multiply(X).sum(0)).ravel()\n",
    "    dot = y @ X\n",
    "    mu_x = sum_x / n\n",
    "    s_x = np.sqrt((sum_x2 - n * mu_x ** 2) / (n - 1))\n",
    "    cov = (dot - n * mu_x * mu_y) / (n - 1)\n",
    "    corr = cov / (s_x * s_y)\n",
    "    corr[s_x == 0] = np.nan\n",
    "    return corr\n",
    "\n",
    "ig = adata.layers['integrated_gradients']\n",
    "z = adata.obs.latent_z.values\n",
    "corr = get_pearsonr(ig, z)\n",
    "ix, name = adata.var_names, 'pearsonr'\n",
    "corr = (pd.Series(corr, index = ix, name = name)\n",
    "        .sort_values(key = abs, ascending = False))\n",
    "corr"
   ]
  },
  {
   "cell_type": "code",
   "execution_count": 33,
   "id": "63a3e74b",
   "metadata": {},
   "outputs": [
    {
     "data": {
      "image/png": "[encoded data removed]",
      "text/plain": [
       "<Figure size 450x350 with 1 Axes>"
      ]
     },
     "metadata": {},
     "output_type": "display_data"
    }
   ],
   "source": [
    "fig, ax = plt.subplots(1, 1, figsize = (4.5, 3.5))\n",
    "ax.plot(corr.abs().values)\n",
    "ax.set_xlabel('Rank')\n",
    "ax.set_ylabel(r'Pearson $r$ $_{IG,z}$')\n",
    "plt.show()"
   ]
  },
  {
   "cell_type": "code",
   "execution_count": null,
   "id": "884bb24a",
   "metadata": {},
   "outputs": [],
   "source": []
  }
 ],
 "metadata": {
  "kernelspec": {
   "display_name": "scanpy",
   "language": "python",
   "name": "python3"
  },
  "language_info": {
   "codemirror_mode": {
    "name": "ipython",
    "version": 3
   },
   "file_extension": ".py",
   "mimetype": "text/x-python",
   "name": "python",
   "nbconvert_exporter": "python",
   "pygments_lexer": "ipython3",
   "version": "3.13.2"
  }
 },
 "nbformat": 4,
 "nbformat_minor": 5
}
